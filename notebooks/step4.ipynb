{
 "cells": [
  {
   "cell_type": "code",
   "execution_count": 6,
   "metadata": {},
   "outputs": [],
   "source": [
    "# imports\n",
    "import pandas as pd\n",
    "import matplotlib.pyplot as plt"
   ]
  },
  {
   "cell_type": "code",
   "execution_count": 7,
   "metadata": {},
   "outputs": [],
   "source": [
    "# configurations\n",
    "plt.rcParams['savefig.dpi'] = 75\n",
    "plt.rcParams['figure.autolayout'] = False\n",
    "plt.rcParams['figure.figsize'] = 10, 6\n",
    "plt.rcParams['axes.labelsize'] = 20\n",
    "plt.rcParams['axes.titlesize'] = 20\n",
    "plt.rcParams['font.size'] = 20\n",
    "plt.rcParams['lines.linewidth'] = 2.0\n",
    "plt.rcParams['lines.markersize'] = 8\n",
    "plt.rcParams['legend.fontsize'] = 15\n",
    "colors = [\"#003560\", \"#EF4700\", \"#EFB400\", \"#00B917\", \"#72009F\"]"
   ]
  },
  {
   "cell_type": "code",
   "execution_count": 8,
   "metadata": {},
   "outputs": [],
   "source": [
    "# load data\n",
    "step4 = pd.read_csv(\"../survey_tool/data/results/full_study/step4.csv\")\n",
    "test_persons = pd.read_csv(\"../survey_tool/data/results/full_study/test_persons.csv\")"
   ]
  },
  {
   "cell_type": "markdown",
   "metadata": {},
   "source": [
    "# General Statistics"
   ]
  },
  {
   "cell_type": "code",
   "execution_count": 9,
   "metadata": {},
   "outputs": [
    {
     "data": {
      "text/plain": [
       "16274"
      ]
     },
     "execution_count": 9,
     "metadata": {},
     "output_type": "execute_result"
    }
   ],
   "source": [
    "# Number of classified domains\n",
    "len(step4)"
   ]
  },
  {
   "cell_type": "code",
   "execution_count": 10,
   "metadata": {},
   "outputs": [
    {
     "data": {
      "text/plain": [
       "count    287.000000\n",
       "mean      56.703833\n",
       "std       22.413612\n",
       "min        1.000000\n",
       "25%       41.000000\n",
       "50%       57.000000\n",
       "75%       69.000000\n",
       "max      138.000000\n",
       "Name: test_domain, dtype: float64"
      ]
     },
     "execution_count": 10,
     "metadata": {},
     "output_type": "execute_result"
    }
   ],
   "source": [
    "# How many domains were classified per participant?\n",
    "step4[\"test_domain\"].groupby(step4.user_id).count().describe()"
   ]
  },
  {
   "cell_type": "code",
   "execution_count": 11,
   "metadata": {},
   "outputs": [
    {
     "data": {
      "text/plain": [
       "count    16274.000000\n",
       "mean      2045.853201\n",
       "std       1907.619793\n",
       "min        336.000000\n",
       "25%       1248.000000\n",
       "50%       1647.000000\n",
       "75%       2280.000000\n",
       "max      66740.000000\n",
       "Name: elapsed_time, dtype: float64"
      ]
     },
     "execution_count": 11,
     "metadata": {},
     "output_type": "execute_result"
    }
   ],
   "source": [
    "# How much time spent participants per domain?\n",
    "step4[\"elapsed_time\"].describe()"
   ]
  },
  {
   "cell_type": "code",
   "execution_count": 12,
   "metadata": {},
   "outputs": [],
   "source": [
    "# Add columns:\n",
    "# - correct_classification to determine whether the domain was classified correctly\n",
    "# - mal_as_ben to determine whether a malicious domain was classified as benign\n",
    "# - ben_as_mal to determine whether a benign domain was classified as malicious\n",
    "step4 = step4.assign(correct_classification=False)\n",
    "step4.loc[step4[\"classification\"] == step4[\"result\"], \"correct_classification\"] = True\n",
    "step4 = step4.assign(mal_as_ben=False)\n",
    "step4.loc[(step4[\"classification\"] == 1) &\n",
    "          (step4[\"classification\"] != step4[\"result\"]), \"mal_as_ben\"] = True\n",
    "step4 = step4.assign(ben_as_mal=False)\n",
    "step4.loc[(step4[\"classification\"] == 0) &\n",
    "          (step4[\"classification\"] != step4[\"result\"]), \"ben_as_mal\"] = True"
   ]
  },
  {
   "cell_type": "code",
   "execution_count": 13,
   "metadata": {},
   "outputs": [
    {
     "data": {
      "text/plain": [
       "True     12608\n",
       "False     3666\n",
       "Name: correct_classification, dtype: int64"
      ]
     },
     "execution_count": 13,
     "metadata": {},
     "output_type": "execute_result"
    }
   ],
   "source": [
    "# How many domains were classified correctly?\n",
    "step4[\"correct_classification\"].value_counts()"
   ]
  },
  {
   "cell_type": "code",
   "execution_count": 14,
   "metadata": {},
   "outputs": [
    {
     "data": {
      "text/plain": [
       "True     0.774733\n",
       "False    0.225267\n",
       "Name: correct_classification, dtype: float64"
      ]
     },
     "execution_count": 14,
     "metadata": {},
     "output_type": "execute_result"
    }
   ],
   "source": [
    "# How many domains were classified correctly (in %)?\n",
    "step4[\"correct_classification\"].value_counts() / len(step4)"
   ]
  },
  {
   "cell_type": "code",
   "execution_count": 15,
   "metadata": {},
   "outputs": [
    {
     "data": {
      "text/plain": [
       "0.8559372098911301"
      ]
     },
     "execution_count": 15,
     "metadata": {},
     "output_type": "execute_result"
    }
   ],
   "source": [
    "# Precision\n",
    "len(step4[(step4[\"classification\"] == 1) & (step4[\"result\"] == 1)]) / len(step4[step4[\"result\"] == 1])"
   ]
  },
  {
   "cell_type": "code",
   "execution_count": 16,
   "metadata": {},
   "outputs": [
    {
     "data": {
      "text/plain": [
       "1959"
      ]
     },
     "execution_count": 16,
     "metadata": {},
     "output_type": "execute_result"
    }
   ],
   "source": [
    "# How many malicious domains were classified as benign?\n",
    "step4[step4[\"mal_as_ben\"] == True][\"user_id\"].count()"
   ]
  },
  {
   "cell_type": "code",
   "execution_count": 17,
   "metadata": {},
   "outputs": [
    {
     "data": {
      "text/plain": [
       "0.5343698854337152"
      ]
     },
     "execution_count": 17,
     "metadata": {},
     "output_type": "execute_result"
    }
   ],
   "source": [
    "# How many malicious domains were classified as benign (in % from all wrongly classified domains)?\n",
    "step4[step4[\"mal_as_ben\"] == True][\"user_id\"].count() /\\\n",
    "len(step4[step4[\"correct_classification\"] == False])"
   ]
  },
  {
   "cell_type": "code",
   "execution_count": 18,
   "metadata": {},
   "outputs": [
    {
     "data": {
      "text/plain": [
       "1707"
      ]
     },
     "execution_count": 18,
     "metadata": {},
     "output_type": "execute_result"
    }
   ],
   "source": [
    "# How many benign domains were classified as malicious?\n",
    "step4[step4[\"ben_as_mal\"] == True][\"user_id\"].count()"
   ]
  },
  {
   "cell_type": "code",
   "execution_count": 19,
   "metadata": {},
   "outputs": [
    {
     "data": {
      "text/plain": [
       "0.4656301145662848"
      ]
     },
     "execution_count": 19,
     "metadata": {},
     "output_type": "execute_result"
    }
   ],
   "source": [
    "# How many benign domains were classified as malicious (in % from all wrongly classified domains)?\n",
    "step4[step4[\"ben_as_mal\"] == True][\"user_id\"].count() /\\\n",
    "len(step4[step4[\"correct_classification\"] == False])"
   ]
  },
  {
   "cell_type": "code",
   "execution_count": 20,
   "metadata": {
    "scrolled": true
   },
   "outputs": [
    {
     "data": {
      "text/plain": [
       "www.docusigner.org                                           26\n",
       "docusignfolder.com                                           25\n",
       "login-microsoft-us.com                                       24\n",
       "security-paypal.com                                          24\n",
       "americanexpress-secure.com                                   23\n",
       "                                                             ..\n",
       "yahoo.update.azadari.co.uk                                    2\n",
       "1https.connect.secure.wellsfargo.com.tropfsteinhoehle.com     2\n",
       "document-share-docusign-mess.classicalschoolathome.com        2\n",
       "instagram.rezaee.ir                                           2\n",
       "id.orange.fr.piggyhawk.net                                    2\n",
       "Name: test_domain, Length: 225, dtype: int64"
      ]
     },
     "execution_count": 20,
     "metadata": {},
     "output_type": "execute_result"
    }
   ],
   "source": [
    "step4[step4[\"mal_as_ben\"] == True][\"test_domain\"].value_counts()"
   ]
  },
  {
   "cell_type": "code",
   "execution_count": 21,
   "metadata": {
    "scrolled": true
   },
   "outputs": [
    {
     "data": {
      "text/plain": [
       "sso.dhl-usa.com        52\n",
       "mydhl.express.dhl      47\n",
       "instagramers.com       46\n",
       "boutique.orange.fr     45\n",
       "docusign.utexas.edu    42\n",
       "                       ..\n",
       "wellsfargo.com          4\n",
       "paypal.com              3\n",
       "yahoo.com               3\n",
       "facebook.com            3\n",
       "orange.com              3\n",
       "Name: test_domain, Length: 78, dtype: int64"
      ]
     },
     "execution_count": 21,
     "metadata": {},
     "output_type": "execute_result"
    }
   ],
   "source": [
    "step4[step4[\"ben_as_mal\"] == True][\"test_domain\"].value_counts()"
   ]
  },
  {
   "cell_type": "markdown",
   "metadata": {},
   "source": [
    "# Statistics per User"
   ]
  },
  {
   "cell_type": "code",
   "execution_count": 22,
   "metadata": {},
   "outputs": [],
   "source": [
    "# Create dataframe with statistics per user\n",
    "statistics_per_user = {}\n",
    "for index, row in step4.iterrows():\n",
    "    user_id = row[\"user_id\"]\n",
    "    if user_id not in statistics_per_user:\n",
    "        test_person = test_persons[test_persons.user_id==user_id]\n",
    "        statistics_per_user[user_id] = {\"domain_count\": 0, \"correct_classifications\": 0,\\\n",
    "                                        \"ben_classifications\": 0, \"mal_classifications\": 0,\\\n",
    "                                        \"ben_as_mal\": 0, \"mal_as_ben\": 0,\\\n",
    "                                        \"correct_ratio\": 0.0,\\\n",
    "                                        \"ben_ratio\": 0.0, \"mal_ratio\": 0.0,\\\n",
    "                                        \"mal_as_ben_ratio\": 0.0, \"ben_as_mal_ratio\": 0.0,\\\n",
    "                                        \"gender\": test_person.gender.values[0],\\\n",
    "                                        \"origin\": test_person.origin.values[0],\\\n",
    "                                        \"age\": test_person.age.values[0],\\\n",
    "                                        \"phishing\": test_person.phishing.values[0]}\n",
    "    statistics_per_user[user_id][\"domain_count\"] += 1\n",
    "    if row[\"correct_classification\"] == True:\n",
    "        statistics_per_user[user_id][\"correct_classifications\"] += 1\n",
    "    elif row[\"mal_as_ben\"] == True:\n",
    "        statistics_per_user[user_id][\"mal_as_ben\"] += 1\n",
    "    elif row[\"ben_as_mal\"] == True:\n",
    "        statistics_per_user[user_id][\"ben_as_mal\"] += 1\n",
    "    if row[\"result\"] == 0:\n",
    "        statistics_per_user[user_id][\"ben_classifications\"] += 1\n",
    "    elif row[\"result\"] == 1:\n",
    "        statistics_per_user[user_id][\"mal_classifications\"] += 1\n",
    "        \n",
    "for user_id in statistics_per_user.keys():\n",
    "    statistics_per_user[user_id][\"correct_ratio\"] = statistics_per_user[user_id][\"correct_classifications\"] /\\\n",
    "                                                    statistics_per_user[user_id][\"domain_count\"]\n",
    "    statistics_per_user[user_id][\"ben_ratio\"] = statistics_per_user[user_id][\"ben_classifications\"] /\\\n",
    "                                                statistics_per_user[user_id][\"domain_count\"]\n",
    "    statistics_per_user[user_id][\"mal_ratio\"] = statistics_per_user[user_id][\"mal_classifications\"] /\\\n",
    "                                                statistics_per_user[user_id][\"domain_count\"]\n",
    "    wrong_classifications = statistics_per_user[user_id][\"mal_as_ben\"] + statistics_per_user[user_id][\"ben_as_mal\"]\n",
    "    if wrong_classifications > 0:\n",
    "        statistics_per_user[user_id][\"mal_as_ben_ratio\"] = statistics_per_user[user_id][\"mal_as_ben\"] / wrong_classifications\n",
    "        statistics_per_user[user_id][\"ben_as_mal_ratio\"] = statistics_per_user[user_id][\"ben_as_mal\"] / wrong_classifications\n",
    "statistics_per_user = pd.DataFrame.from_dict(statistics_per_user, orient=\"index\")"
   ]
  },
  {
   "cell_type": "markdown",
   "metadata": {},
   "source": [
    "## All users"
   ]
  },
  {
   "cell_type": "code",
   "execution_count": 23,
   "metadata": {},
   "outputs": [
    {
     "name": "stdout",
     "output_type": "stream",
     "text": [
      "AxesSubplot(0.125,0.125;0.775x0.755)\n"
     ]
    },
    {
     "data": {
      "image/png": "[encoded data removed]",
      "text/plain": [
       "<Figure size 720x432 with 1 Axes>"
      ]
     },
     "metadata": {
      "needs_background": "light"
     },
     "output_type": "display_data"
    }
   ],
   "source": [
    "# How many domains were classified per participant\n",
    "domain_count_bins = pd.cut(statistics_per_user.domain_count, bins=[0, 20, 40, 60, 80, 100, 120, 140, 160, 180, 200], include_lowest=True)\n",
    "print(domain_count_bins.value_counts().sort_index().plot(kind=\"bar\", color=colors[0], legend=False))"
   ]
  },
  {
   "cell_type": "code",
   "execution_count": 24,
   "metadata": {},
   "outputs": [
    {
     "name": "stdout",
     "output_type": "stream",
     "text": [
      "AxesSubplot(0.125,0.125;0.775x0.755)\n"
     ]
    },
    {
     "data": {
      "image/png": "[encoded data removed]",
      "text/plain": [
       "<Figure size 720x432 with 1 Axes>"
      ]
     },
     "metadata": {
      "needs_background": "light"
     },
     "output_type": "display_data"
    }
   ],
   "source": [
    "# How well were the domains classified per participant\n",
    "correct_ratio_bins = pd.cut(statistics_per_user.correct_ratio, bins=[0.0, 0.1, 0.2, 0.3, 0.4, 0.5, 0.6, 0.7, 0.8, 0.9, 1.0], include_lowest=True)\n",
    "print(correct_ratio_bins.value_counts().sort_index().plot(kind=\"bar\", color=colors[0], legend=False))"
   ]
  },
  {
   "cell_type": "code",
   "execution_count": 25,
   "metadata": {},
   "outputs": [
    {
     "data": {
      "text/plain": [
       "<matplotlib.axes._subplots.AxesSubplot at 0x7f24717bfed0>"
      ]
     },
     "execution_count": 25,
     "metadata": {},
     "output_type": "execute_result"
    },
    {
     "data": {
      "image/png": "[encoded data removed]",
      "text/plain": [
       "<Figure size 720x432 with 1 Axes>"
      ]
     },
     "metadata": {
      "needs_background": "light"
     },
     "output_type": "display_data"
    }
   ],
   "source": [
    "# How is the distribution of benign and malicious classifications among participants, i.e., are there participants who\n",
    "# classify all domains as benign or malicious?\n",
    "ben_ratio_bins = pd.cut(statistics_per_user.ben_ratio, bins=[0.0, 0.1, 0.2, 0.3, 0.4, 0.5, 0.6, 0.7, 0.8, 0.9, 1.0], include_lowest=True)\n",
    "mal_ratio_bins = pd.cut(statistics_per_user.mal_ratio, bins=[0.0, 0.1, 0.2, 0.3, 0.4, 0.5, 0.6, 0.7, 0.8, 0.9, 1.0], include_lowest=True)\n",
    "pd.DataFrame({\"ben_ratio_bins\": ben_ratio_bins.value_counts().sort_index(),\\\n",
    "              \"mal_ratio_bins\": mal_ratio_bins.value_counts().sort_index()}).plot(kind=\"bar\", color=colors)"
   ]
  },
  {
   "cell_type": "code",
   "execution_count": 26,
   "metadata": {},
   "outputs": [
    {
     "data": {
      "text/plain": [
       "<matplotlib.axes._subplots.AxesSubplot at 0x7f247176e890>"
      ]
     },
     "execution_count": 26,
     "metadata": {},
     "output_type": "execute_result"
    },
    {
     "data": {
      "image/png": "[encoded data removed]",
      "text/plain": [
       "<Figure size 720x432 with 1 Axes>"
      ]
     },
     "metadata": {
      "needs_background": "light"
     },
     "output_type": "display_data"
    }
   ],
   "source": [
    "# How is the distribution of the benign as malicious ratio?\n",
    "ben_as_mal_ratio_bins = pd.cut(statistics_per_user.ben_as_mal_ratio, bins=[0.0, 0.1, 0.2, 0.3, 0.4, 0.5, 0.6, 0.7, 0.8, 0.9, 1.0], include_lowest=True)\n",
    "mal_as_ben_ratio_bins = pd.cut(statistics_per_user.mal_as_ben_ratio, bins=[0.0, 0.1, 0.2, 0.3, 0.4, 0.5, 0.6, 0.7, 0.8, 0.9, 1.0], include_lowest=True)\n",
    "pd.DataFrame({\"ben_as_mal_ratio_bins\": ben_as_mal_ratio_bins.value_counts().sort_index(),\\\n",
    "              \"mal_as_ben_ratio_bins\": mal_as_ben_ratio_bins.value_counts().sort_index()}).plot(kind=\"bar\", color=colors)"
   ]
  },
  {
   "cell_type": "markdown",
   "metadata": {},
   "source": [
    "## Based on Phishing Experience"
   ]
  },
  {
   "cell_type": "code",
   "execution_count": 27,
   "metadata": {},
   "outputs": [
    {
     "data": {
      "text/plain": [
       "<matplotlib.axes._subplots.AxesSubplot at 0x7f247168ffd0>"
      ]
     },
     "execution_count": 27,
     "metadata": {},
     "output_type": "execute_result"
    },
    {
     "data": {
      "image/png": "[encoded data removed]",
      "text/plain": [
       "<Figure size 720x432 with 1 Axes>"
      ]
     },
     "metadata": {
      "needs_background": "light"
     },
     "output_type": "display_data"
    }
   ],
   "source": [
    "yes_bins = pd.cut(statistics_per_user[statistics_per_user.phishing==\"yes\"].correct_ratio, bins=[0.0, 0.1, 0.2, 0.3, 0.4, 0.5, 0.6, 0.7, 0.8, 0.9, 1.0], include_lowest=True)\n",
    "no_bins = pd.cut(statistics_per_user[statistics_per_user.phishing==\"no\"].correct_ratio, bins=[0.0, 0.1, 0.2, 0.3, 0.4, 0.5, 0.6, 0.7, 0.8, 0.9, 1.0], include_lowest=True)\n",
    "pd.DataFrame({\"phishing_exp\": yes_bins.value_counts().sort_index(),\\\n",
    "              \"no_phishing_exp\": no_bins.value_counts().sort_index()}).plot(kind=\"bar\", color=colors)"
   ]
  },
  {
   "cell_type": "markdown",
   "metadata": {},
   "source": [
    "## Based on Gender"
   ]
  },
  {
   "cell_type": "code",
   "execution_count": 28,
   "metadata": {},
   "outputs": [
    {
     "data": {
      "text/plain": [
       "<matplotlib.axes._subplots.AxesSubplot at 0x7f24715b5090>"
      ]
     },
     "execution_count": 28,
     "metadata": {},
     "output_type": "execute_result"
    },
    {
     "data": {
      "image/png": "[encoded data removed]",
      "text/plain": [
       "<Figure size 720x432 with 1 Axes>"
      ]
     },
     "metadata": {
      "needs_background": "light"
     },
     "output_type": "display_data"
    }
   ],
   "source": [
    "male_bins = pd.cut(statistics_per_user[statistics_per_user.gender==\"male\"].correct_ratio, bins=[0.0, 0.1, 0.2, 0.3, 0.4, 0.5, 0.6, 0.7, 0.8, 0.9, 1.0], include_lowest=True)\n",
    "female_bins = pd.cut(statistics_per_user[statistics_per_user.gender==\"female\"].correct_ratio, bins=[0.0, 0.1, 0.2, 0.3, 0.4, 0.5, 0.6, 0.7, 0.8, 0.9, 1.0], include_lowest=True)\n",
    "pd.DataFrame({\"male\": male_bins.value_counts().sort_index(),\\\n",
    "              \"female\": no_bins.value_counts().sort_index()}).plot(kind=\"bar\", color=colors)"
   ]
  },
  {
   "cell_type": "markdown",
   "metadata": {},
   "source": [
    "## Based on Origin"
   ]
  },
  {
   "cell_type": "code",
   "execution_count": 29,
   "metadata": {},
   "outputs": [
    {
     "data": {
      "text/plain": [
       "<matplotlib.axes._subplots.AxesSubplot at 0x7f2476ab60d0>"
      ]
     },
     "execution_count": 29,
     "metadata": {},
     "output_type": "execute_result"
    },
    {
     "data": {
      "image/png": "[encoded data removed]",
      "text/plain": [
       "<Figure size 720x432 with 1 Axes>"
      ]
     },
     "metadata": {
      "needs_background": "light"
     },
     "output_type": "display_data"
    }
   ],
   "source": [
    "asia_bins = pd.cut(statistics_per_user[statistics_per_user.origin==\"asia\"].correct_ratio, bins=[0.0, 0.1, 0.2, 0.3, 0.4, 0.5, 0.6, 0.7, 0.8, 0.9, 1.0], include_lowest=True)\n",
    "north_america_bins = pd.cut(statistics_per_user[statistics_per_user.origin==\"north_america\"].correct_ratio, bins=[0.0, 0.1, 0.2, 0.3, 0.4, 0.5, 0.6, 0.7, 0.8, 0.9, 1.0], include_lowest=True)\n",
    "pd.DataFrame({\"asia\": asia_bins.value_counts().sort_index(),\\\n",
    "              \"north_america\": north_america_bins.value_counts().sort_index()}).plot(kind=\"bar\", color=colors)"
   ]
  },
  {
   "cell_type": "code",
   "execution_count": 30,
   "metadata": {},
   "outputs": [
    {
     "data": {
      "text/html": [
       "<div>\n",
       "<style scoped>\n",
       "    .dataframe tbody tr th:only-of-type {\n",
       "        vertical-align: middle;\n",
       "    }\n",
       "\n",
       "    .dataframe tbody tr th {\n",
       "        vertical-align: top;\n",
       "    }\n",
       "\n",
       "    .dataframe thead th {\n",
       "        text-align: right;\n",
       "    }\n",
       "</style>\n",
       "<table border=\"1\" class=\"dataframe\">\n",
       "  <thead>\n",
       "    <tr style=\"text-align: right;\">\n",
       "      <th></th>\n",
       "      <th>asia</th>\n",
       "      <th>north_america</th>\n",
       "    </tr>\n",
       "  </thead>\n",
       "  <tbody>\n",
       "    <tr>\n",
       "      <th>(-0.001, 0.1]</th>\n",
       "      <td>2</td>\n",
       "      <td>0</td>\n",
       "    </tr>\n",
       "    <tr>\n",
       "      <th>(0.1, 0.2]</th>\n",
       "      <td>0</td>\n",
       "      <td>0</td>\n",
       "    </tr>\n",
       "    <tr>\n",
       "      <th>(0.2, 0.3]</th>\n",
       "      <td>3</td>\n",
       "      <td>2</td>\n",
       "    </tr>\n",
       "    <tr>\n",
       "      <th>(0.3, 0.4]</th>\n",
       "      <td>6</td>\n",
       "      <td>2</td>\n",
       "    </tr>\n",
       "    <tr>\n",
       "      <th>(0.4, 0.5]</th>\n",
       "      <td>7</td>\n",
       "      <td>6</td>\n",
       "    </tr>\n",
       "    <tr>\n",
       "      <th>(0.5, 0.6]</th>\n",
       "      <td>6</td>\n",
       "      <td>4</td>\n",
       "    </tr>\n",
       "    <tr>\n",
       "      <th>(0.6, 0.7]</th>\n",
       "      <td>6</td>\n",
       "      <td>12</td>\n",
       "    </tr>\n",
       "    <tr>\n",
       "      <th>(0.7, 0.8]</th>\n",
       "      <td>18</td>\n",
       "      <td>44</td>\n",
       "    </tr>\n",
       "    <tr>\n",
       "      <th>(0.8, 0.9]</th>\n",
       "      <td>20</td>\n",
       "      <td>90</td>\n",
       "    </tr>\n",
       "    <tr>\n",
       "      <th>(0.9, 1.0]</th>\n",
       "      <td>12</td>\n",
       "      <td>43</td>\n",
       "    </tr>\n",
       "  </tbody>\n",
       "</table>\n",
       "</div>"
      ],
      "text/plain": [
       "               asia  north_america\n",
       "(-0.001, 0.1]     2              0\n",
       "(0.1, 0.2]        0              0\n",
       "(0.2, 0.3]        3              2\n",
       "(0.3, 0.4]        6              2\n",
       "(0.4, 0.5]        7              6\n",
       "(0.5, 0.6]        6              4\n",
       "(0.6, 0.7]        6             12\n",
       "(0.7, 0.8]       18             44\n",
       "(0.8, 0.9]       20             90\n",
       "(0.9, 1.0]       12             43"
      ]
     },
     "execution_count": 30,
     "metadata": {},
     "output_type": "execute_result"
    }
   ],
   "source": [
    "pd.DataFrame({\"asia\": asia_bins.value_counts().sort_index(),\\\n",
    "              \"north_america\": north_america_bins.value_counts().sort_index()})"
   ]
  },
  {
   "cell_type": "markdown",
   "metadata": {},
   "source": [
    "## Based on Age group"
   ]
  },
  {
   "cell_type": "code",
   "execution_count": 31,
   "metadata": {},
   "outputs": [
    {
     "data": {
      "text/plain": [
       "<matplotlib.axes._subplots.AxesSubplot at 0x7f24714acfd0>"
      ]
     },
     "execution_count": 31,
     "metadata": {},
     "output_type": "execute_result"
    },
    {
     "data": {
      "image/png": "[encoded data removed]",
      "text/plain": [
       "<Figure size 720x432 with 1 Axes>"
      ]
     },
     "metadata": {
      "needs_background": "light"
     },
     "output_type": "display_data"
    }
   ],
   "source": [
    "bins_18_25 = pd.cut(statistics_per_user[statistics_per_user.age==\"18_25\"].correct_ratio, bins=[0.0, 0.1, 0.2, 0.3, 0.4, 0.5, 0.6, 0.7, 0.8, 0.9, 1.0], include_lowest=True)\n",
    "bins_26_35 = pd.cut(statistics_per_user[statistics_per_user.age==\"26_35\"].correct_ratio, bins=[0.0, 0.1, 0.2, 0.3, 0.4, 0.5, 0.6, 0.7, 0.8, 0.9, 1.0], include_lowest=True)\n",
    "bins_36_45 = pd.cut(statistics_per_user[statistics_per_user.age==\"36_45\"].correct_ratio, bins=[0.0, 0.1, 0.2, 0.3, 0.4, 0.5, 0.6, 0.7, 0.8, 0.9, 1.0], include_lowest=True)\n",
    "bins_46_55 = pd.cut(statistics_per_user[statistics_per_user.age==\"46_55\"].correct_ratio, bins=[0.0, 0.1, 0.2, 0.3, 0.4, 0.5, 0.6, 0.7, 0.8, 0.9, 1.0], include_lowest=True)\n",
    "bins_over_55 = pd.cut(statistics_per_user[statistics_per_user.age==\"over_55\"].correct_ratio, bins=[0.0, 0.1, 0.2, 0.3, 0.4, 0.5, 0.6, 0.7, 0.8, 0.9, 1.0], include_lowest=True)\n",
    "pd.DataFrame({\"18_25\": bins_18_25.value_counts().sort_index(),\\\n",
    "              \"26_35\": bins_26_35.value_counts().sort_index(),\\\n",
    "              \"36_45\": bins_36_45.value_counts().sort_index(),\\\n",
    "              \"46_55\": bins_46_55.value_counts().sort_index(),\\\n",
    "              \"over_55\": bins_over_55.value_counts().sort_index()}).plot(kind=\"bar\", color=colors)"
   ]
  },
  {
   "cell_type": "code",
   "execution_count": 32,
   "metadata": {},
   "outputs": [
    {
     "name": "stdout",
     "output_type": "stream",
     "text": [
      "Pearson correlation coefficient:\n",
      "                         domain_count  correct_classifications  \\\n",
      "domain_count                 1.000000                 0.824984   \n",
      "correct_classifications      0.824984                 1.000000   \n",
      "ben_classifications          0.408036                -0.094971   \n",
      "mal_classifications          0.747049                 0.930566   \n",
      "ben_as_mal                   0.609373                 0.568307   \n",
      "mal_as_ben                   0.308509                -0.250209   \n",
      "correct_ratio               -0.012341                 0.478332   \n",
      "ben_ratio                   -0.123966                -0.523825   \n",
      "mal_ratio                    0.123966                 0.523825   \n",
      "mal_as_ben_ratio            -0.115039                -0.443083   \n",
      "ben_as_mal_ratio             0.157317                 0.478754   \n",
      "\n",
      "                         ben_classifications  mal_classifications  ben_as_mal  \\\n",
      "domain_count                        0.408036             0.747049    0.609373   \n",
      "correct_classifications            -0.094971             0.930566    0.568307   \n",
      "ben_classifications                 1.000000            -0.302088   -0.207035   \n",
      "mal_classifications                -0.302088             1.000000    0.787032   \n",
      "ben_as_mal                         -0.207035             0.787032    1.000000   \n",
      "mal_as_ben                          0.961155            -0.377724   -0.172501   \n",
      "correct_ratio                      -0.629986             0.445833    0.044032   \n",
      "ben_ratio                           0.744863            -0.671805   -0.489453   \n",
      "mal_ratio                          -0.744863             0.671805    0.489453   \n",
      "mal_as_ben_ratio                    0.622007            -0.573027   -0.476454   \n",
      "ben_as_mal_ratio                   -0.602095             0.602674    0.495286   \n",
      "\n",
      "                         mal_as_ben  correct_ratio  ben_ratio  mal_ratio  \\\n",
      "domain_count               0.308509      -0.012341  -0.123966   0.123966   \n",
      "correct_classifications   -0.250209       0.478332  -0.523825   0.523825   \n",
      "ben_classifications        0.961155      -0.629986   0.744863  -0.744863   \n",
      "mal_classifications       -0.377724       0.445833  -0.671805   0.671805   \n",
      "ben_as_mal                -0.172501       0.044032  -0.489453   0.489453   \n",
      "mal_as_ben                 1.000000      -0.755409   0.764584  -0.764584   \n",
      "correct_ratio             -0.755409       1.000000  -0.780540   0.780540   \n",
      "ben_ratio                  0.764584      -0.780540   1.000000  -1.000000   \n",
      "mal_ratio                 -0.764584       0.780540  -1.000000   1.000000   \n",
      "mal_as_ben_ratio           0.654520      -0.644102   0.806171  -0.806171   \n",
      "ben_as_mal_ratio          -0.639768       0.615130  -0.834000   0.834000   \n",
      "\n",
      "                         mal_as_ben_ratio  ben_as_mal_ratio  \n",
      "domain_count                    -0.115039          0.157317  \n",
      "correct_classifications         -0.443083          0.478754  \n",
      "ben_classifications              0.622007         -0.602095  \n",
      "mal_classifications             -0.573027          0.602674  \n",
      "ben_as_mal                      -0.476454          0.495286  \n",
      "mal_as_ben                       0.654520         -0.639768  \n",
      "correct_ratio                   -0.644102          0.615130  \n",
      "ben_ratio                        0.806171         -0.834000  \n",
      "mal_ratio                       -0.806171          0.834000  \n",
      "mal_as_ben_ratio                 1.000000         -0.973653  \n",
      "ben_as_mal_ratio                -0.973653          1.000000  \n"
     ]
    },
    {
     "data": {
      "text/html": [
       "<div>\n",
       "<style scoped>\n",
       "    .dataframe tbody tr th:only-of-type {\n",
       "        vertical-align: middle;\n",
       "    }\n",
       "\n",
       "    .dataframe tbody tr th {\n",
       "        vertical-align: top;\n",
       "    }\n",
       "\n",
       "    .dataframe thead th {\n",
       "        text-align: right;\n",
       "    }\n",
       "</style>\n",
       "<table border=\"1\" class=\"dataframe\">\n",
       "  <thead>\n",
       "    <tr style=\"text-align: right;\">\n",
       "      <th></th>\n",
       "      <th>domain_count</th>\n",
       "      <th>correct_classifications</th>\n",
       "      <th>ben_classifications</th>\n",
       "      <th>mal_classifications</th>\n",
       "      <th>ben_as_mal</th>\n",
       "      <th>mal_as_ben</th>\n",
       "      <th>correct_ratio</th>\n",
       "      <th>ben_ratio</th>\n",
       "      <th>mal_ratio</th>\n",
       "      <th>mal_as_ben_ratio</th>\n",
       "      <th>ben_as_mal_ratio</th>\n",
       "    </tr>\n",
       "  </thead>\n",
       "  <tbody>\n",
       "    <tr>\n",
       "      <th>domain_count</th>\n",
       "      <td>0</td>\n",
       "      <td>0</td>\n",
       "      <td>0</td>\n",
       "      <td>0</td>\n",
       "      <td>0</td>\n",
       "      <td>0</td>\n",
       "      <td>0.8351</td>\n",
       "      <td>0.0358</td>\n",
       "      <td>0.0358</td>\n",
       "      <td>0.0516</td>\n",
       "      <td>0.0076</td>\n",
       "    </tr>\n",
       "    <tr>\n",
       "      <th>correct_classifications</th>\n",
       "      <td>0</td>\n",
       "      <td>0</td>\n",
       "      <td>0.1084</td>\n",
       "      <td>0</td>\n",
       "      <td>0</td>\n",
       "      <td>0</td>\n",
       "      <td>0</td>\n",
       "      <td>0</td>\n",
       "      <td>0</td>\n",
       "      <td>0</td>\n",
       "      <td>0</td>\n",
       "    </tr>\n",
       "    <tr>\n",
       "      <th>ben_classifications</th>\n",
       "      <td>0</td>\n",
       "      <td>0.1084</td>\n",
       "      <td>0</td>\n",
       "      <td>0</td>\n",
       "      <td>0.0004</td>\n",
       "      <td>0</td>\n",
       "      <td>0</td>\n",
       "      <td>0</td>\n",
       "      <td>0</td>\n",
       "      <td>0</td>\n",
       "      <td>0</td>\n",
       "    </tr>\n",
       "    <tr>\n",
       "      <th>mal_classifications</th>\n",
       "      <td>0</td>\n",
       "      <td>0</td>\n",
       "      <td>0</td>\n",
       "      <td>0</td>\n",
       "      <td>0</td>\n",
       "      <td>0</td>\n",
       "      <td>0</td>\n",
       "      <td>0</td>\n",
       "      <td>0</td>\n",
       "      <td>0</td>\n",
       "      <td>0</td>\n",
       "    </tr>\n",
       "    <tr>\n",
       "      <th>ben_as_mal</th>\n",
       "      <td>0</td>\n",
       "      <td>0</td>\n",
       "      <td>0.0004</td>\n",
       "      <td>0</td>\n",
       "      <td>0</td>\n",
       "      <td>0.0034</td>\n",
       "      <td>0.4574</td>\n",
       "      <td>0</td>\n",
       "      <td>0</td>\n",
       "      <td>0</td>\n",
       "      <td>0</td>\n",
       "    </tr>\n",
       "    <tr>\n",
       "      <th>mal_as_ben</th>\n",
       "      <td>0</td>\n",
       "      <td>0</td>\n",
       "      <td>0</td>\n",
       "      <td>0</td>\n",
       "      <td>0.0034</td>\n",
       "      <td>0</td>\n",
       "      <td>0</td>\n",
       "      <td>0</td>\n",
       "      <td>0</td>\n",
       "      <td>0</td>\n",
       "      <td>0</td>\n",
       "    </tr>\n",
       "    <tr>\n",
       "      <th>correct_ratio</th>\n",
       "      <td>0.8351</td>\n",
       "      <td>0</td>\n",
       "      <td>0</td>\n",
       "      <td>0</td>\n",
       "      <td>0.4574</td>\n",
       "      <td>0</td>\n",
       "      <td>0</td>\n",
       "      <td>0</td>\n",
       "      <td>0</td>\n",
       "      <td>0</td>\n",
       "      <td>0</td>\n",
       "    </tr>\n",
       "    <tr>\n",
       "      <th>ben_ratio</th>\n",
       "      <td>0.0358</td>\n",
       "      <td>0</td>\n",
       "      <td>0</td>\n",
       "      <td>0</td>\n",
       "      <td>0</td>\n",
       "      <td>0</td>\n",
       "      <td>0</td>\n",
       "      <td>0</td>\n",
       "      <td>0</td>\n",
       "      <td>0</td>\n",
       "      <td>0</td>\n",
       "    </tr>\n",
       "    <tr>\n",
       "      <th>mal_ratio</th>\n",
       "      <td>0.0358</td>\n",
       "      <td>0</td>\n",
       "      <td>0</td>\n",
       "      <td>0</td>\n",
       "      <td>0</td>\n",
       "      <td>0</td>\n",
       "      <td>0</td>\n",
       "      <td>0</td>\n",
       "      <td>0</td>\n",
       "      <td>0</td>\n",
       "      <td>0</td>\n",
       "    </tr>\n",
       "    <tr>\n",
       "      <th>mal_as_ben_ratio</th>\n",
       "      <td>0.0516</td>\n",
       "      <td>0</td>\n",
       "      <td>0</td>\n",
       "      <td>0</td>\n",
       "      <td>0</td>\n",
       "      <td>0</td>\n",
       "      <td>0</td>\n",
       "      <td>0</td>\n",
       "      <td>0</td>\n",
       "      <td>0</td>\n",
       "      <td>0</td>\n",
       "    </tr>\n",
       "    <tr>\n",
       "      <th>ben_as_mal_ratio</th>\n",
       "      <td>0.0076</td>\n",
       "      <td>0</td>\n",
       "      <td>0</td>\n",
       "      <td>0</td>\n",
       "      <td>0</td>\n",
       "      <td>0</td>\n",
       "      <td>0</td>\n",
       "      <td>0</td>\n",
       "      <td>0</td>\n",
       "      <td>0</td>\n",
       "      <td>0</td>\n",
       "    </tr>\n",
       "  </tbody>\n",
       "</table>\n",
       "</div>"
      ],
      "text/plain": [
       "                        domain_count correct_classifications  \\\n",
       "domain_count                       0                       0   \n",
       "correct_classifications            0                       0   \n",
       "ben_classifications                0                  0.1084   \n",
       "mal_classifications                0                       0   \n",
       "ben_as_mal                         0                       0   \n",
       "mal_as_ben                         0                       0   \n",
       "correct_ratio                 0.8351                       0   \n",
       "ben_ratio                     0.0358                       0   \n",
       "mal_ratio                     0.0358                       0   \n",
       "mal_as_ben_ratio              0.0516                       0   \n",
       "ben_as_mal_ratio              0.0076                       0   \n",
       "\n",
       "                        ben_classifications mal_classifications ben_as_mal  \\\n",
       "domain_count                              0                   0          0   \n",
       "correct_classifications              0.1084                   0          0   \n",
       "ben_classifications                       0                   0     0.0004   \n",
       "mal_classifications                       0                   0          0   \n",
       "ben_as_mal                           0.0004                   0          0   \n",
       "mal_as_ben                                0                   0     0.0034   \n",
       "correct_ratio                             0                   0     0.4574   \n",
       "ben_ratio                                 0                   0          0   \n",
       "mal_ratio                                 0                   0          0   \n",
       "mal_as_ben_ratio                          0                   0          0   \n",
       "ben_as_mal_ratio                          0                   0          0   \n",
       "\n",
       "                        mal_as_ben correct_ratio ben_ratio mal_ratio  \\\n",
       "domain_count                     0        0.8351    0.0358    0.0358   \n",
       "correct_classifications          0             0         0         0   \n",
       "ben_classifications              0             0         0         0   \n",
       "mal_classifications              0             0         0         0   \n",
       "ben_as_mal                  0.0034        0.4574         0         0   \n",
       "mal_as_ben                       0             0         0         0   \n",
       "correct_ratio                    0             0         0         0   \n",
       "ben_ratio                        0             0         0         0   \n",
       "mal_ratio                        0             0         0         0   \n",
       "mal_as_ben_ratio                 0             0         0         0   \n",
       "ben_as_mal_ratio                 0             0         0         0   \n",
       "\n",
       "                        mal_as_ben_ratio ben_as_mal_ratio  \n",
       "domain_count                      0.0516           0.0076  \n",
       "correct_classifications                0                0  \n",
       "ben_classifications                    0                0  \n",
       "mal_classifications                    0                0  \n",
       "ben_as_mal                             0                0  \n",
       "mal_as_ben                             0                0  \n",
       "correct_ratio                          0                0  \n",
       "ben_ratio                              0                0  \n",
       "mal_ratio                              0                0  \n",
       "mal_as_ben_ratio                       0                0  \n",
       "ben_as_mal_ratio                       0                0  "
      ]
     },
     "execution_count": 32,
     "metadata": {},
     "output_type": "execute_result"
    }
   ],
   "source": [
    "import scipy as sp\n",
    "from scipy.stats import pearsonr\n",
    "\n",
    "def calculate_pvalues(df):\n",
    "    df = df.dropna()._get_numeric_data()\n",
    "    dfcols = pd.DataFrame(columns=df.columns)\n",
    "    pvalues = dfcols.transpose().join(dfcols, how='outer')\n",
    "    for r in df.columns:\n",
    "        for c in df.columns:\n",
    "            pvalues[r][c] = round(pearsonr(df[r], df[c])[1], 4)\n",
    "    return pvalues\n",
    "\n",
    "dataFrame = pd.DataFrame(data=statistics_per_user);\n",
    "\n",
    "#print(\"DataFrame:\");\n",
    "#print(dataFrame);\n",
    "\n",
    "correlation    = dataFrame.corr(method=\"pearson\");\n",
    "\n",
    "print(\"Pearson correlation coefficient:\");\n",
    "print(correlation);\n",
    "\n",
    "calculate_pvalues(dataFrame)\n",
    "\n",
    " "
   ]
  },
  {
   "cell_type": "code",
   "execution_count": 39,
   "metadata": {},
   "outputs": [
    {
     "data": {
      "text/plain": [
       "(7.212540745766128,\n",
       " 0.3016381734596055,\n",
       " 6,\n",
       " array([[8.20348432e+01, 1.31407666e+02, 3.79790941e+00, 7.59581882e-01],\n",
       "        [1.09128920e+01, 1.74808362e+01, 5.05226481e-01, 1.01045296e-01],\n",
       "        [1.50522648e+01, 2.41114983e+01, 6.96864111e-01, 1.39372822e-01]]))"
      ]
     },
     "execution_count": 39,
     "metadata": {},
     "output_type": "execute_result"
    }
   ],
   "source": [
    "from scipy.stats import chi2_contingency\n",
    "\n",
    "def chisq_of_df_cols(df, c1, c2):\n",
    "    groupsizes = df.groupby([c1, c2]).size()\n",
    "    ctsum = groupsizes.unstack(c1)\n",
    "    # fillna(0) is necessary to remove any NAs which will cause exceptions\n",
    "    return(chi2_contingency(ctsum.fillna(0)))\n",
    "\n",
    "chisq_of_df_cols(dataFrame, 'gender', 'phishing')"
   ]
  }
 ],
 "metadata": {
  "kernelspec": {
   "display_name": "Python 3",
   "language": "python",
   "name": "python3"
  },
  "language_info": {
   "codemirror_mode": {
    "name": "ipython",
    "version": 3
   },
   "file_extension": ".py",
   "mimetype": "text/x-python",
   "name": "python",
   "nbconvert_exporter": "python",
   "pygments_lexer": "ipython3",
   "version": "3.5.2"
  }
 },
 "nbformat": 4,
 "nbformat_minor": 2
}
