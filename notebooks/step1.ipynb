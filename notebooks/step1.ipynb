{
 "cells": [
  {
   "cell_type": "code",
   "execution_count": 1,
   "metadata": {},
   "outputs": [],
   "source": [
    "# imports\n",
    "import pandas as pd\n",
    "import matplotlib.pyplot as plt\n",
    "import numpy as np"
   ]
  },
  {
   "cell_type": "code",
   "execution_count": 2,
   "metadata": {},
   "outputs": [],
   "source": [
    "# configurations\n",
    "plt.rcParams['savefig.dpi'] = 75\n",
    "plt.rcParams['figure.autolayout'] = False\n",
    "plt.rcParams['figure.figsize'] = 10, 6\n",
    "plt.rcParams['axes.labelsize'] = 20\n",
    "plt.rcParams['axes.titlesize'] = 20\n",
    "plt.rcParams['font.size'] = 20\n",
    "plt.rcParams['lines.linewidth'] = 2.0\n",
    "plt.rcParams['lines.markersize'] = 8\n",
    "plt.rcParams['legend.fontsize'] = 15\n",
    "colors = [\"#003560\", \"#EF4700\", \"#EFB400\", \"#00B917\", \"#72009F\"]"
   ]
  },
  {
   "cell_type": "code",
   "execution_count": 3,
   "metadata": {},
   "outputs": [],
   "source": [
    "# helper functions\n",
    "def format_plot(xtick_labels, label_x, label_y):\n",
    "    plt.xticks(np.arange(len(xtick_labels)), xtick_labels, rotation=45, ha=\"right\")\n",
    "    plt.xlabel(label_x)\n",
    "    plt.ylabel(label_y)\n",
    "\n",
    "def save_plot(filename):\n",
    "    plt.tight_layout()\n",
    "    plt.savefig(\"../paper/fig/\" + filename)"
   ]
  },
  {
   "cell_type": "code",
   "execution_count": 4,
   "metadata": {},
   "outputs": [],
   "source": [
    "# load data\n",
    "step1 = pd.read_csv(\"../survey_tool/data/results/full_study/step1.csv\")\n",
    "test_persons = pd.read_csv(\"../survey_tool/data/results/full_study/test_persons.csv\")"
   ]
  },
  {
   "cell_type": "markdown",
   "metadata": {},
   "source": [
    "# General statistics"
   ]
  },
  {
   "cell_type": "code",
   "execution_count": 5,
   "metadata": {},
   "outputs": [
    {
     "data": {
      "text/plain": [
       "14178"
      ]
     },
     "execution_count": 5,
     "metadata": {},
     "output_type": "execute_result"
    }
   ],
   "source": [
    "# Number of classified domains\n",
    "len(step1)"
   ]
  },
  {
   "cell_type": "code",
   "execution_count": 6,
   "metadata": {},
   "outputs": [
    {
     "data": {
      "text/plain": [
       "count    288.000000\n",
       "mean      49.229167\n",
       "std       21.525358\n",
       "min        1.000000\n",
       "25%       37.000000\n",
       "50%       48.000000\n",
       "75%       59.250000\n",
       "max      156.000000\n",
       "Name: test_domain, dtype: float64"
      ]
     },
     "execution_count": 6,
     "metadata": {},
     "output_type": "execute_result"
    }
   ],
   "source": [
    "# How many domains were classified per participant?\n",
    "step1[\"test_domain\"].groupby(step1.user_id).count().describe()"
   ]
  },
  {
   "cell_type": "code",
   "execution_count": 7,
   "metadata": {},
   "outputs": [
    {
     "data": {
      "text/plain": [
       "count    14178.000000\n",
       "mean      2344.796798\n",
       "std       2148.585397\n",
       "min        272.000000\n",
       "25%       1384.000000\n",
       "50%       1873.500000\n",
       "75%       2633.000000\n",
       "max      93154.000000\n",
       "Name: elapsed_time, dtype: float64"
      ]
     },
     "execution_count": 7,
     "metadata": {},
     "output_type": "execute_result"
    }
   ],
   "source": [
    "# How much time spent participants per domain?\n",
    "step1[\"elapsed_time\"].describe()"
   ]
  },
  {
   "cell_type": "code",
   "execution_count": 8,
   "metadata": {},
   "outputs": [],
   "source": [
    "# Add columns:\n",
    "# - correct_classification to determine whether the domain was classified correctly\n",
    "# - mal_as_ben to determine whether a malicious domain was classified as benign\n",
    "# - ben_as_mal to determine whether a benign domain was classified as malicious\n",
    "step1 = step1.assign(correct_classification=False)\n",
    "step1.loc[step1[\"classification\"] == step1[\"result\"], \"correct_classification\"] = True\n",
    "step1 = step1.assign(mal_as_ben=False)\n",
    "step1.loc[(step1[\"classification\"] == 1) &\n",
    "          (step1[\"classification\"] != step1[\"result\"]), \"mal_as_ben\"] = True\n",
    "step1 = step1.assign(ben_as_mal=False)\n",
    "step1.loc[(step1[\"classification\"] == 0) &\n",
    "          (step1[\"classification\"] != step1[\"result\"]), \"ben_as_mal\"] = True"
   ]
  },
  {
   "cell_type": "code",
   "execution_count": 9,
   "metadata": {},
   "outputs": [
    {
     "name": "stdout",
     "output_type": "stream",
     "text": [
      "True     10767\n",
      "False     3411\n",
      "Name: correct_classification, dtype: int64\n"
     ]
    }
   ],
   "source": [
    "# How many domains were classified correctly?\n",
    "print(step1[\"correct_classification\"].value_counts())"
   ]
  },
  {
   "cell_type": "code",
   "execution_count": 10,
   "metadata": {},
   "outputs": [
    {
     "name": "stdout",
     "output_type": "stream",
     "text": [
      "True     0.759416\n",
      "False    0.240584\n",
      "Name: correct_classification, dtype: float64\n"
     ]
    }
   ],
   "source": [
    "# How many domains were classified correctly (in %)?\n",
    "print(step1[\"correct_classification\"].value_counts() / len(step1))"
   ]
  },
  {
   "cell_type": "code",
   "execution_count": 11,
   "metadata": {},
   "outputs": [
    {
     "data": {
      "text/plain": [
       "0.8774943976096468"
      ]
     },
     "execution_count": 11,
     "metadata": {},
     "output_type": "execute_result"
    }
   ],
   "source": [
    "# Precision\n",
    "len(step1[(step1[\"classification\"] == 1) & (step1[\"result\"] == 1)]) / len(step1[step1[\"result\"] == 1])"
   ]
  },
  {
   "cell_type": "code",
   "execution_count": 12,
   "metadata": {},
   "outputs": [
    {
     "data": {
      "text/plain": [
       "2263"
      ]
     },
     "execution_count": 12,
     "metadata": {},
     "output_type": "execute_result"
    }
   ],
   "source": [
    "# How many malicious domains were classified as benign?\n",
    "step1[step1[\"mal_as_ben\"] == True][\"user_id\"].count()"
   ]
  },
  {
   "cell_type": "code",
   "execution_count": 13,
   "metadata": {},
   "outputs": [
    {
     "data": {
      "text/plain": [
       "0.663441805922017"
      ]
     },
     "execution_count": 13,
     "metadata": {},
     "output_type": "execute_result"
    }
   ],
   "source": [
    "# How many malicious domains were classified as benign (in % from all wrongly classified domains)?\n",
    "step1[step1[\"mal_as_ben\"] == True][\"user_id\"].count() /\\\n",
    "len(step1[step1[\"correct_classification\"] == False])"
   ]
  },
  {
   "cell_type": "code",
   "execution_count": 14,
   "metadata": {},
   "outputs": [
    {
     "data": {
      "text/plain": [
       "1148"
      ]
     },
     "execution_count": 14,
     "metadata": {},
     "output_type": "execute_result"
    }
   ],
   "source": [
    "# How many benign domains were classified as malicious?\n",
    "step1[step1[\"ben_as_mal\"] == True][\"user_id\"].count()"
   ]
  },
  {
   "cell_type": "code",
   "execution_count": 15,
   "metadata": {},
   "outputs": [
    {
     "data": {
      "text/plain": [
       "0.336558194077983"
      ]
     },
     "execution_count": 15,
     "metadata": {},
     "output_type": "execute_result"
    }
   ],
   "source": [
    "# How many benign domains were classified as malicious (in % from all wrongly classified domains)?\n",
    "step1[step1[\"ben_as_mal\"] == True][\"user_id\"].count() /\\\n",
    "len(step1[step1[\"correct_classification\"] == False])"
   ]
  },
  {
   "cell_type": "code",
   "execution_count": 16,
   "metadata": {
    "scrolled": true
   },
   "outputs": [
    {
     "data": {
      "text/plain": [
       "docusignfolder.com                                 32\n",
       "docusignfile.com                                   27\n",
       "americanexpressbeta.com                            26\n",
       "www.docusigner.org                                 26\n",
       "www.login-linkedin.com                             25\n",
       "                                                   ..\n",
       "id.orange.fr.authuser2.bin.waltermarquez.com.ve     3\n",
       "www.access.logon.online.yahoo.ververoom.com         3\n",
       "idauthweb.orange.fr.bodrumsatilikemlak.net          2\n",
       "suport-secur.com-paypall.ga                         1\n",
       "drive.google.com.yaho.ml                            1\n",
       "Name: test_domain, Length: 225, dtype: int64"
      ]
     },
     "execution_count": 16,
     "metadata": {},
     "output_type": "execute_result"
    }
   ],
   "source": [
    "# Which malicious domain was classified as benign and how often?\n",
    "# TODO calculate ratio between wrong classifications and overall classifications\n",
    "step1[step1[\"mal_as_ben\"] == True][\"test_domain\"].value_counts()"
   ]
  },
  {
   "cell_type": "code",
   "execution_count": 17,
   "metadata": {
    "scrolled": true
   },
   "outputs": [
    {
     "data": {
      "text/plain": [
       "ebpp3.wellsfargo.com    39\n",
       "sso.dhl-usa.com         37\n",
       "paypal.me               34\n",
       "paypal-community.com    34\n",
       "instagramers.com        32\n",
       "                        ..\n",
       "yahoo.com                2\n",
       "paypal.com               2\n",
       "instagram.com            2\n",
       "dropbox.com              1\n",
       "google.com               1\n",
       "Name: test_domain, Length: 78, dtype: int64"
      ]
     },
     "execution_count": 17,
     "metadata": {},
     "output_type": "execute_result"
    }
   ],
   "source": [
    "# Which benign domain was classified as malicious and how often?\n",
    "# TODO calculate ratio between wrong classifications and overall classifications\n",
    "step1[step1[\"ben_as_mal\"] == True][\"test_domain\"].value_counts()"
   ]
  },
  {
   "cell_type": "markdown",
   "metadata": {},
   "source": [
    "# Statistics per User"
   ]
  },
  {
   "cell_type": "code",
   "execution_count": 18,
   "metadata": {},
   "outputs": [],
   "source": [
    "# Create dataframe with statistics per user\n",
    "statistics_per_user = {}\n",
    "for index, row in step1.iterrows():\n",
    "    user_id = row[\"user_id\"]\n",
    "    if user_id not in statistics_per_user:\n",
    "        test_person = test_persons[test_persons.user_id==user_id]\n",
    "        statistics_per_user[user_id] = {\"domain_count\": 0, \"correct_classifications\": 0,\\\n",
    "                                        \"ben_classifications\": 0, \"mal_classifications\": 0,\\\n",
    "                                        \"ben_as_mal\": 0, \"mal_as_ben\": 0, \"mal_as_mal\": 0,\\\n",
    "                                        \"correct_ratio\": 0.0,\\\n",
    "                                        \"precision\": 0.0,\\\n",
    "                                        \"ben_ratio\": 0.0, \"mal_ratio\": 0.0,\\\n",
    "                                        \"mal_as_ben_ratio\": 0.0, \"ben_as_mal_ratio\": 0.0,\\\n",
    "                                        \"gender\": test_person.gender.values[0],\\\n",
    "                                        \"origin\": test_person.origin.values[0],\\\n",
    "                                        \"age\": test_person.age.values[0],\\\n",
    "                                        \"phishing\": test_person.phishing.values[0]}\n",
    "    statistics_per_user[user_id][\"domain_count\"] += 1\n",
    "    if row[\"classification\"] == 1 and row[\"result\"] == 1:\n",
    "        statistics_per_user[user_id][\"mal_as_mal\"] += 1\n",
    "    if row[\"correct_classification\"] == True:\n",
    "        statistics_per_user[user_id][\"correct_classifications\"] += 1\n",
    "    elif row[\"mal_as_ben\"] == True:\n",
    "        statistics_per_user[user_id][\"mal_as_ben\"] += 1\n",
    "    elif row[\"ben_as_mal\"] == True:\n",
    "        statistics_per_user[user_id][\"ben_as_mal\"] += 1\n",
    "    if row[\"result\"] == 0:\n",
    "        statistics_per_user[user_id][\"ben_classifications\"] += 1\n",
    "    elif row[\"result\"] == 1:\n",
    "        statistics_per_user[user_id][\"mal_classifications\"] += 1\n",
    "\n",
    "for user_id in statistics_per_user.keys():\n",
    "    statistics_per_user[user_id][\"correct_ratio\"] = statistics_per_user[user_id][\"correct_classifications\"] /\\\n",
    "                                                    statistics_per_user[user_id][\"domain_count\"]\n",
    "    statistics_per_user[user_id][\"ben_ratio\"] = statistics_per_user[user_id][\"ben_classifications\"] /\\\n",
    "                                                statistics_per_user[user_id][\"domain_count\"]\n",
    "    statistics_per_user[user_id][\"mal_ratio\"] = statistics_per_user[user_id][\"mal_classifications\"] /\\\n",
    "                                                statistics_per_user[user_id][\"domain_count\"]\n",
    "    wrong_classifications = statistics_per_user[user_id][\"mal_as_ben\"] + statistics_per_user[user_id][\"ben_as_mal\"]\n",
    "    if wrong_classifications > 0:\n",
    "        statistics_per_user[user_id][\"mal_as_ben_ratio\"] = statistics_per_user[user_id][\"mal_as_ben\"] / wrong_classifications\n",
    "        statistics_per_user[user_id][\"ben_as_mal_ratio\"] = statistics_per_user[user_id][\"ben_as_mal\"] / wrong_classifications\n",
    "    if statistics_per_user[user_id][\"mal_classifications\"]:    \n",
    "        statistics_per_user[user_id][\"precision\"] = statistics_per_user[user_id][\"mal_as_mal\"] /\\\n",
    "                                                    statistics_per_user[user_id][\"mal_classifications\"]        \n",
    "statistics_per_user = pd.DataFrame.from_dict(statistics_per_user, orient=\"index\")"
   ]
  },
  {
   "cell_type": "markdown",
   "metadata": {},
   "source": [
    "## All users"
   ]
  },
  {
   "cell_type": "code",
   "execution_count": 19,
   "metadata": {},
   "outputs": [
    {
     "name": "stdout",
     "output_type": "stream",
     "text": [
      "AxesSubplot(0.125,0.125;0.775x0.755)\n"
     ]
    },
    {
     "data": {
      "image/png": "[encoded data removed]",
      "text/plain": [
       "<Figure size 720x432 with 1 Axes>"
      ]
     },
     "metadata": {
      "needs_background": "light"
     },
     "output_type": "display_data"
    }
   ],
   "source": [
    "# How many domains were classified per participant\n",
    "domain_count_bins = pd.cut(statistics_per_user.domain_count, bins=[0, 20, 40, 60, 80, 100, 120, 140, 160, 180, 200], include_lowest=True)\n",
    "print(domain_count_bins.value_counts().sort_index().plot(kind=\"bar\", color=colors[0], legend=False))\n",
    "labels = (\"(0, 20)\", \"(20, 40)\", \"(40, 60)\", \"(60, 80)\", \"(80, 100)\", \"(100, 120)\", \"(120, 140)\", \"(140, 160)\",\\\n",
    "          \"(160, 180)\", \"(180, 200)\")\n",
    "format_plot(labels, \"# classified domains\", \"# participants\")\n",
    "save_plot(\"step1_number_of_domains.pdf\")"
   ]
  },
  {
   "cell_type": "code",
   "execution_count": 28,
   "metadata": {},
   "outputs": [
    {
     "data": {
      "image/png": "[encoded data removed]",
      "text/plain": [
       "<Figure size 720x432 with 1 Axes>"
      ]
     },
     "metadata": {
      "needs_background": "light"
     },
     "output_type": "display_data"
    }
   ],
   "source": [
    "# How well were the domains classified per participant\n",
    "accuracy_bins = pd.cut(statistics_per_user.correct_ratio, bins=[0.0, 0.1, 0.2, 0.3, 0.4, 0.5, 0.6, 0.7, 0.8, 0.9, 1.0], include_lowest=True)\n",
    "precision_bins = pd.cut(statistics_per_user.precision, bins=[0.0, 0.1, 0.2, 0.3, 0.4, 0.5, 0.6, 0.7, 0.8, 0.9, 1.0], include_lowest=True)\n",
    "pd.DataFrame({\"accuracy\": accuracy_bins.value_counts().sort_index(),\\\n",
    "              \"precision\": precision_bins.value_counts().sort_index()}).plot(kind=\"bar\", color=colors)\n",
    "labels = (\"(0.0, 0.1]\", \"(0.1, 0.2]\", \"(0.2, 0.3]\", \"(0.3, 0.4]\", \"(0.4, 0.5]\", \"(0.5, 0.6]\", \"(0.6, 0.7]\",\\\n",
    "          \"(0.7, 0.8]\", \"(0.8, 0.9]\", \"(0.9, 1.0]\")\n",
    "format_plot(labels, \"average accuracy/precision\", \"# participants\")\n",
    "save_plot(\"step1_classifications_per_user.pdf\")"
   ]
  },
  {
   "cell_type": "code",
   "execution_count": 21,
   "metadata": {},
   "outputs": [
    {
     "data": {
      "text/plain": [
       "<matplotlib.axes._subplots.AxesSubplot at 0x7fca09851050>"
      ]
     },
     "execution_count": 21,
     "metadata": {},
     "output_type": "execute_result"
    },
    {
     "data": {
      "image/png": "[encoded data removed]",
      "text/plain": [
       "<Figure size 720x432 with 1 Axes>"
      ]
     },
     "metadata": {
      "needs_background": "light"
     },
     "output_type": "display_data"
    }
   ],
   "source": [
    "# How is the distribution of benign and malicious classifications among participants, i.e., are there participants who\n",
    "# classify all domains as benign or malicious?\n",
    "ben_ratio_bins = pd.cut(statistics_per_user.ben_ratio, bins=[0.0, 0.1, 0.2, 0.3, 0.4, 0.5, 0.6, 0.7, 0.8, 0.9, 1.0], include_lowest=True)\n",
    "mal_ratio_bins = pd.cut(statistics_per_user.mal_ratio, bins=[0.0, 0.1, 0.2, 0.3, 0.4, 0.5, 0.6, 0.7, 0.8, 0.9, 1.0], include_lowest=True)\n",
    "pd.DataFrame({\"ben_ratio_bins\": ben_ratio_bins.value_counts().sort_index(),\\\n",
    "              \"mal_ratio_bins\": mal_ratio_bins.value_counts().sort_index()}).plot(kind=\"bar\", color=colors)"
   ]
  },
  {
   "cell_type": "code",
   "execution_count": 22,
   "metadata": {},
   "outputs": [
    {
     "data": {
      "text/plain": [
       "(0.2, 0.3]       77\n",
       "(0.1, 0.2]       60\n",
       "(0.3, 0.4]       46\n",
       "(0.4, 0.5]       22\n",
       "(0.6, 0.7]       17\n",
       "(0.7, 0.8]       16\n",
       "(0.5, 0.6]       16\n",
       "(-0.001, 0.1]    14\n",
       "(0.9, 1.0]       13\n",
       "(0.8, 0.9]        7\n",
       "Name: ben_ratio, dtype: int64"
      ]
     },
     "execution_count": 22,
     "metadata": {},
     "output_type": "execute_result"
    }
   ],
   "source": [
    "#pd.DataFrame({\"ben_ratio_bins\": ben_ratio_bins.value_counts().sort_index(),\\\n",
    "#              \"mal_ratio_bins\": mal_ratio_bins.value_counts().sort_index()})\n",
    "ben_ratio_bins.value_counts()"
   ]
  },
  {
   "cell_type": "code",
   "execution_count": 23,
   "metadata": {},
   "outputs": [
    {
     "data": {
      "text/plain": [
       "<matplotlib.axes._subplots.AxesSubplot at 0x7fca061a9810>"
      ]
     },
     "execution_count": 23,
     "metadata": {},
     "output_type": "execute_result"
    },
    {
     "data": {
      "image/png": "[encoded data removed]",
      "text/plain": [
       "<Figure size 720x432 with 1 Axes>"
      ]
     },
     "metadata": {
      "needs_background": "light"
     },
     "output_type": "display_data"
    }
   ],
   "source": [
    "# How is the distribution of the benign as malicious ratio?\n",
    "ben_as_mal_ratio_bins = pd.cut(statistics_per_user.ben_as_mal_ratio, bins=[0.0, 0.1, 0.2, 0.3, 0.4, 0.5, 0.6, 0.7, 0.8, 0.9, 1.0], include_lowest=True)\n",
    "mal_as_ben_ratio_bins = pd.cut(statistics_per_user.mal_as_ben_ratio, bins=[0.0, 0.1, 0.2, 0.3, 0.4, 0.5, 0.6, 0.7, 0.8, 0.9, 1.0], include_lowest=True)\n",
    "pd.DataFrame({\"ben_as_mal_ratio_bins\": ben_as_mal_ratio_bins.value_counts().sort_index(),\\\n",
    "              \"mal_as_ben_ratio_bins\": mal_as_ben_ratio_bins.value_counts().sort_index()}).plot(kind=\"bar\", color=colors)"
   ]
  },
  {
   "cell_type": "markdown",
   "metadata": {},
   "source": [
    "## Based on Phishing Experience"
   ]
  },
  {
   "cell_type": "code",
   "execution_count": 24,
   "metadata": {},
   "outputs": [
    {
     "data": {
      "text/plain": [
       "<matplotlib.axes._subplots.AxesSubplot at 0x7fca08422b10>"
      ]
     },
     "execution_count": 24,
     "metadata": {},
     "output_type": "execute_result"
    },
    {
     "data": {
      "image/png": "[encoded data removed]",
      "text/plain": [
       "<Figure size 720x432 with 1 Axes>"
      ]
     },
     "metadata": {
      "needs_background": "light"
     },
     "output_type": "display_data"
    }
   ],
   "source": [
    "yes_bins = pd.cut(statistics_per_user[statistics_per_user.phishing==\"yes\"].correct_ratio, bins=[0.0, 0.1, 0.2, 0.3, 0.4, 0.5, 0.6, 0.7, 0.8, 0.9, 1.0], include_lowest=True)\n",
    "no_bins = pd.cut(statistics_per_user[statistics_per_user.phishing==\"no\"].correct_ratio, bins=[0.0, 0.1, 0.2, 0.3, 0.4, 0.5, 0.6, 0.7, 0.8, 0.9, 1.0], include_lowest=True)\n",
    "pd.DataFrame({\"phishing_exp\": yes_bins.value_counts().sort_index(),\\\n",
    "              \"no_phishing_exp\": no_bins.value_counts().sort_index()}).plot(kind=\"bar\", color=colors)"
   ]
  },
  {
   "cell_type": "markdown",
   "metadata": {},
   "source": [
    "## Based on Gender"
   ]
  },
  {
   "cell_type": "code",
   "execution_count": 25,
   "metadata": {},
   "outputs": [
    {
     "data": {
      "text/plain": [
       "<matplotlib.axes._subplots.AxesSubplot at 0x7fca062ddb10>"
      ]
     },
     "execution_count": 25,
     "metadata": {},
     "output_type": "execute_result"
    },
    {
     "data": {
      "image/png": "[encoded data removed]",
      "text/plain": [
       "<Figure size 720x432 with 1 Axes>"
      ]
     },
     "metadata": {
      "needs_background": "light"
     },
     "output_type": "display_data"
    }
   ],
   "source": [
    "male_bins = pd.cut(statistics_per_user[statistics_per_user.gender==\"male\"].correct_ratio, bins=[0.0, 0.1, 0.2, 0.3, 0.4, 0.5, 0.6, 0.7, 0.8, 0.9, 1.0], include_lowest=True)\n",
    "female_bins = pd.cut(statistics_per_user[statistics_per_user.gender==\"female\"].correct_ratio, bins=[0.0, 0.1, 0.2, 0.3, 0.4, 0.5, 0.6, 0.7, 0.8, 0.9, 1.0], include_lowest=True)\n",
    "pd.DataFrame({\"male\": male_bins.value_counts().sort_index(),\\\n",
    "              \"female\": no_bins.value_counts().sort_index()}).plot(kind=\"bar\", color=colors)"
   ]
  },
  {
   "cell_type": "markdown",
   "metadata": {},
   "source": [
    "## Based on origin"
   ]
  },
  {
   "cell_type": "code",
   "execution_count": 26,
   "metadata": {},
   "outputs": [
    {
     "data": {
      "text/plain": [
       "<matplotlib.axes._subplots.AxesSubplot at 0x7fca09851350>"
      ]
     },
     "execution_count": 26,
     "metadata": {},
     "output_type": "execute_result"
    },
    {
     "data": {
      "image/png": "[encoded data removed]",
      "text/plain": [
       "<Figure size 720x432 with 1 Axes>"
      ]
     },
     "metadata": {
      "needs_background": "light"
     },
     "output_type": "display_data"
    }
   ],
   "source": [
    "asia_bins = pd.cut(statistics_per_user[statistics_per_user.origin==\"asia\"].correct_ratio, bins=[0.0, 0.1, 0.2, 0.3, 0.4, 0.5, 0.6, 0.7, 0.8, 0.9, 1.0], include_lowest=True)\n",
    "north_america_bins = pd.cut(statistics_per_user[statistics_per_user.origin==\"north_america\"].correct_ratio, bins=[0.0, 0.1, 0.2, 0.3, 0.4, 0.5, 0.6, 0.7, 0.8, 0.9, 1.0], include_lowest=True)\n",
    "pd.DataFrame({\"asia\": asia_bins.value_counts().sort_index(),\\\n",
    "              \"north_america\": north_america_bins.value_counts().sort_index()}).plot(kind=\"bar\", color=colors)"
   ]
  },
  {
   "cell_type": "markdown",
   "metadata": {},
   "source": [
    "## Based on Age group"
   ]
  },
  {
   "cell_type": "code",
   "execution_count": 39,
   "metadata": {},
   "outputs": [
    {
     "data": {
      "text/html": [
       "<div>\n",
       "<style scoped>\n",
       "    .dataframe tbody tr th:only-of-type {\n",
       "        vertical-align: middle;\n",
       "    }\n",
       "\n",
       "    .dataframe tbody tr th {\n",
       "        vertical-align: top;\n",
       "    }\n",
       "\n",
       "    .dataframe thead th {\n",
       "        text-align: right;\n",
       "    }\n",
       "</style>\n",
       "<table border=\"1\" class=\"dataframe\">\n",
       "  <thead>\n",
       "    <tr style=\"text-align: right;\">\n",
       "      <th></th>\n",
       "      <th>domain_count</th>\n",
       "      <th>correct_classifications</th>\n",
       "      <th>ben_classifications</th>\n",
       "      <th>mal_classifications</th>\n",
       "      <th>ben_as_mal</th>\n",
       "      <th>mal_as_ben</th>\n",
       "      <th>mal_as_mal</th>\n",
       "      <th>correct_ratio</th>\n",
       "      <th>precision</th>\n",
       "      <th>ben_ratio</th>\n",
       "      <th>mal_ratio</th>\n",
       "      <th>mal_as_ben_ratio</th>\n",
       "      <th>ben_as_mal_ratio</th>\n",
       "      <th>gender</th>\n",
       "      <th>origin</th>\n",
       "      <th>age</th>\n",
       "      <th>phishing</th>\n",
       "    </tr>\n",
       "  </thead>\n",
       "  <tbody>\n",
       "    <tr>\n",
       "      <th>ef03e9ec-33a3-4733-b714-fee31a93756b</th>\n",
       "      <td>51</td>\n",
       "      <td>43</td>\n",
       "      <td>12</td>\n",
       "      <td>39</td>\n",
       "      <td>6</td>\n",
       "      <td>2</td>\n",
       "      <td>33</td>\n",
       "      <td>0.843137</td>\n",
       "      <td>0.846154</td>\n",
       "      <td>0.235294</td>\n",
       "      <td>0.764706</td>\n",
       "      <td>0.250000</td>\n",
       "      <td>0.750000</td>\n",
       "      <td>male</td>\n",
       "      <td>north_america</td>\n",
       "      <td>36_45</td>\n",
       "      <td>no</td>\n",
       "    </tr>\n",
       "    <tr>\n",
       "      <th>be07c01a-ddd0-40ae-a147-e0e40fb895ab</th>\n",
       "      <td>68</td>\n",
       "      <td>57</td>\n",
       "      <td>17</td>\n",
       "      <td>51</td>\n",
       "      <td>1</td>\n",
       "      <td>10</td>\n",
       "      <td>50</td>\n",
       "      <td>0.838235</td>\n",
       "      <td>0.980392</td>\n",
       "      <td>0.250000</td>\n",
       "      <td>0.750000</td>\n",
       "      <td>0.909091</td>\n",
       "      <td>0.090909</td>\n",
       "      <td>female</td>\n",
       "      <td>north_america</td>\n",
       "      <td>26_35</td>\n",
       "      <td>yes</td>\n",
       "    </tr>\n",
       "    <tr>\n",
       "      <th>bf3eebee-327b-4136-b3fb-0729a71e93aa</th>\n",
       "      <td>52</td>\n",
       "      <td>44</td>\n",
       "      <td>9</td>\n",
       "      <td>43</td>\n",
       "      <td>5</td>\n",
       "      <td>3</td>\n",
       "      <td>38</td>\n",
       "      <td>0.846154</td>\n",
       "      <td>0.883721</td>\n",
       "      <td>0.173077</td>\n",
       "      <td>0.826923</td>\n",
       "      <td>0.375000</td>\n",
       "      <td>0.625000</td>\n",
       "      <td>female</td>\n",
       "      <td>north_america</td>\n",
       "      <td>26_35</td>\n",
       "      <td>yes</td>\n",
       "    </tr>\n",
       "    <tr>\n",
       "      <th>0537de69-16f9-4fc6-be8f-f34537a7f01f</th>\n",
       "      <td>61</td>\n",
       "      <td>33</td>\n",
       "      <td>35</td>\n",
       "      <td>26</td>\n",
       "      <td>3</td>\n",
       "      <td>25</td>\n",
       "      <td>23</td>\n",
       "      <td>0.540984</td>\n",
       "      <td>0.884615</td>\n",
       "      <td>0.573770</td>\n",
       "      <td>0.426230</td>\n",
       "      <td>0.892857</td>\n",
       "      <td>0.107143</td>\n",
       "      <td>male</td>\n",
       "      <td>asia</td>\n",
       "      <td>26_35</td>\n",
       "      <td>no</td>\n",
       "    </tr>\n",
       "    <tr>\n",
       "      <th>3e906259-bd1f-4ed5-b5ad-c11a81e9d5c3</th>\n",
       "      <td>47</td>\n",
       "      <td>44</td>\n",
       "      <td>11</td>\n",
       "      <td>36</td>\n",
       "      <td>3</td>\n",
       "      <td>0</td>\n",
       "      <td>33</td>\n",
       "      <td>0.936170</td>\n",
       "      <td>0.916667</td>\n",
       "      <td>0.234043</td>\n",
       "      <td>0.765957</td>\n",
       "      <td>0.000000</td>\n",
       "      <td>1.000000</td>\n",
       "      <td>male</td>\n",
       "      <td>north_america</td>\n",
       "      <td>26_35</td>\n",
       "      <td>no</td>\n",
       "    </tr>\n",
       "    <tr>\n",
       "      <th>bda40549-d39d-4a43-88a9-a06ba251d1d7</th>\n",
       "      <td>60</td>\n",
       "      <td>53</td>\n",
       "      <td>13</td>\n",
       "      <td>47</td>\n",
       "      <td>6</td>\n",
       "      <td>1</td>\n",
       "      <td>41</td>\n",
       "      <td>0.883333</td>\n",
       "      <td>0.872340</td>\n",
       "      <td>0.216667</td>\n",
       "      <td>0.783333</td>\n",
       "      <td>0.142857</td>\n",
       "      <td>0.857143</td>\n",
       "      <td>female</td>\n",
       "      <td>north_america</td>\n",
       "      <td>36_45</td>\n",
       "      <td>no</td>\n",
       "    </tr>\n",
       "    <tr>\n",
       "      <th>ff1048ec-3f11-44c1-a715-dc632b86aee7</th>\n",
       "      <td>55</td>\n",
       "      <td>44</td>\n",
       "      <td>27</td>\n",
       "      <td>28</td>\n",
       "      <td>3</td>\n",
       "      <td>8</td>\n",
       "      <td>25</td>\n",
       "      <td>0.800000</td>\n",
       "      <td>0.892857</td>\n",
       "      <td>0.490909</td>\n",
       "      <td>0.509091</td>\n",
       "      <td>0.727273</td>\n",
       "      <td>0.272727</td>\n",
       "      <td>female</td>\n",
       "      <td>north_america</td>\n",
       "      <td>36_45</td>\n",
       "      <td>no</td>\n",
       "    </tr>\n",
       "    <tr>\n",
       "      <th>78b800ab-37b4-43d5-9b88-f984c92d06a3</th>\n",
       "      <td>51</td>\n",
       "      <td>36</td>\n",
       "      <td>20</td>\n",
       "      <td>31</td>\n",
       "      <td>4</td>\n",
       "      <td>11</td>\n",
       "      <td>27</td>\n",
       "      <td>0.705882</td>\n",
       "      <td>0.870968</td>\n",
       "      <td>0.392157</td>\n",
       "      <td>0.607843</td>\n",
       "      <td>0.733333</td>\n",
       "      <td>0.266667</td>\n",
       "      <td>male</td>\n",
       "      <td>north_america</td>\n",
       "      <td>26_35</td>\n",
       "      <td>not_known</td>\n",
       "    </tr>\n",
       "    <tr>\n",
       "      <th>30f8b39d-0439-4571-89b7-da317d433397</th>\n",
       "      <td>42</td>\n",
       "      <td>16</td>\n",
       "      <td>36</td>\n",
       "      <td>6</td>\n",
       "      <td>0</td>\n",
       "      <td>26</td>\n",
       "      <td>6</td>\n",
       "      <td>0.380952</td>\n",
       "      <td>1.000000</td>\n",
       "      <td>0.857143</td>\n",
       "      <td>0.142857</td>\n",
       "      <td>1.000000</td>\n",
       "      <td>0.000000</td>\n",
       "      <td>male</td>\n",
       "      <td>north_america</td>\n",
       "      <td>26_35</td>\n",
       "      <td>no</td>\n",
       "    </tr>\n",
       "    <tr>\n",
       "      <th>75a4ca19-07a5-4161-8ac4-ade4579049b2</th>\n",
       "      <td>48</td>\n",
       "      <td>37</td>\n",
       "      <td>15</td>\n",
       "      <td>33</td>\n",
       "      <td>4</td>\n",
       "      <td>7</td>\n",
       "      <td>29</td>\n",
       "      <td>0.770833</td>\n",
       "      <td>0.878788</td>\n",
       "      <td>0.312500</td>\n",
       "      <td>0.687500</td>\n",
       "      <td>0.636364</td>\n",
       "      <td>0.363636</td>\n",
       "      <td>non_binary</td>\n",
       "      <td>north_america</td>\n",
       "      <td>over_55</td>\n",
       "      <td>no</td>\n",
       "    </tr>\n",
       "  </tbody>\n",
       "</table>\n",
       "</div>"
      ],
      "text/plain": [
       "                                      domain_count  correct_classifications  \\\n",
       "ef03e9ec-33a3-4733-b714-fee31a93756b            51                       43   \n",
       "be07c01a-ddd0-40ae-a147-e0e40fb895ab            68                       57   \n",
       "bf3eebee-327b-4136-b3fb-0729a71e93aa            52                       44   \n",
       "0537de69-16f9-4fc6-be8f-f34537a7f01f            61                       33   \n",
       "3e906259-bd1f-4ed5-b5ad-c11a81e9d5c3            47                       44   \n",
       "bda40549-d39d-4a43-88a9-a06ba251d1d7            60                       53   \n",
       "ff1048ec-3f11-44c1-a715-dc632b86aee7            55                       44   \n",
       "78b800ab-37b4-43d5-9b88-f984c92d06a3            51                       36   \n",
       "30f8b39d-0439-4571-89b7-da317d433397            42                       16   \n",
       "75a4ca19-07a5-4161-8ac4-ade4579049b2            48                       37   \n",
       "\n",
       "                                      ben_classifications  \\\n",
       "ef03e9ec-33a3-4733-b714-fee31a93756b                   12   \n",
       "be07c01a-ddd0-40ae-a147-e0e40fb895ab                   17   \n",
       "bf3eebee-327b-4136-b3fb-0729a71e93aa                    9   \n",
       "0537de69-16f9-4fc6-be8f-f34537a7f01f                   35   \n",
       "3e906259-bd1f-4ed5-b5ad-c11a81e9d5c3                   11   \n",
       "bda40549-d39d-4a43-88a9-a06ba251d1d7                   13   \n",
       "ff1048ec-3f11-44c1-a715-dc632b86aee7                   27   \n",
       "78b800ab-37b4-43d5-9b88-f984c92d06a3                   20   \n",
       "30f8b39d-0439-4571-89b7-da317d433397                   36   \n",
       "75a4ca19-07a5-4161-8ac4-ade4579049b2                   15   \n",
       "\n",
       "                                      mal_classifications  ben_as_mal  \\\n",
       "ef03e9ec-33a3-4733-b714-fee31a93756b                   39           6   \n",
       "be07c01a-ddd0-40ae-a147-e0e40fb895ab                   51           1   \n",
       "bf3eebee-327b-4136-b3fb-0729a71e93aa                   43           5   \n",
       "0537de69-16f9-4fc6-be8f-f34537a7f01f                   26           3   \n",
       "3e906259-bd1f-4ed5-b5ad-c11a81e9d5c3                   36           3   \n",
       "bda40549-d39d-4a43-88a9-a06ba251d1d7                   47           6   \n",
       "ff1048ec-3f11-44c1-a715-dc632b86aee7                   28           3   \n",
       "78b800ab-37b4-43d5-9b88-f984c92d06a3                   31           4   \n",
       "30f8b39d-0439-4571-89b7-da317d433397                    6           0   \n",
       "75a4ca19-07a5-4161-8ac4-ade4579049b2                   33           4   \n",
       "\n",
       "                                      mal_as_ben  mal_as_mal  correct_ratio  \\\n",
       "ef03e9ec-33a3-4733-b714-fee31a93756b           2          33       0.843137   \n",
       "be07c01a-ddd0-40ae-a147-e0e40fb895ab          10          50       0.838235   \n",
       "bf3eebee-327b-4136-b3fb-0729a71e93aa           3          38       0.846154   \n",
       "0537de69-16f9-4fc6-be8f-f34537a7f01f          25          23       0.540984   \n",
       "3e906259-bd1f-4ed5-b5ad-c11a81e9d5c3           0          33       0.936170   \n",
       "bda40549-d39d-4a43-88a9-a06ba251d1d7           1          41       0.883333   \n",
       "ff1048ec-3f11-44c1-a715-dc632b86aee7           8          25       0.800000   \n",
       "78b800ab-37b4-43d5-9b88-f984c92d06a3          11          27       0.705882   \n",
       "30f8b39d-0439-4571-89b7-da317d433397          26           6       0.380952   \n",
       "75a4ca19-07a5-4161-8ac4-ade4579049b2           7          29       0.770833   \n",
       "\n",
       "                                      precision  ben_ratio  mal_ratio  \\\n",
       "ef03e9ec-33a3-4733-b714-fee31a93756b   0.846154   0.235294   0.764706   \n",
       "be07c01a-ddd0-40ae-a147-e0e40fb895ab   0.980392   0.250000   0.750000   \n",
       "bf3eebee-327b-4136-b3fb-0729a71e93aa   0.883721   0.173077   0.826923   \n",
       "0537de69-16f9-4fc6-be8f-f34537a7f01f   0.884615   0.573770   0.426230   \n",
       "3e906259-bd1f-4ed5-b5ad-c11a81e9d5c3   0.916667   0.234043   0.765957   \n",
       "bda40549-d39d-4a43-88a9-a06ba251d1d7   0.872340   0.216667   0.783333   \n",
       "ff1048ec-3f11-44c1-a715-dc632b86aee7   0.892857   0.490909   0.509091   \n",
       "78b800ab-37b4-43d5-9b88-f984c92d06a3   0.870968   0.392157   0.607843   \n",
       "30f8b39d-0439-4571-89b7-da317d433397   1.000000   0.857143   0.142857   \n",
       "75a4ca19-07a5-4161-8ac4-ade4579049b2   0.878788   0.312500   0.687500   \n",
       "\n",
       "                                      mal_as_ben_ratio  ben_as_mal_ratio  \\\n",
       "ef03e9ec-33a3-4733-b714-fee31a93756b          0.250000          0.750000   \n",
       "be07c01a-ddd0-40ae-a147-e0e40fb895ab          0.909091          0.090909   \n",
       "bf3eebee-327b-4136-b3fb-0729a71e93aa          0.375000          0.625000   \n",
       "0537de69-16f9-4fc6-be8f-f34537a7f01f          0.892857          0.107143   \n",
       "3e906259-bd1f-4ed5-b5ad-c11a81e9d5c3          0.000000          1.000000   \n",
       "bda40549-d39d-4a43-88a9-a06ba251d1d7          0.142857          0.857143   \n",
       "ff1048ec-3f11-44c1-a715-dc632b86aee7          0.727273          0.272727   \n",
       "78b800ab-37b4-43d5-9b88-f984c92d06a3          0.733333          0.266667   \n",
       "30f8b39d-0439-4571-89b7-da317d433397          1.000000          0.000000   \n",
       "75a4ca19-07a5-4161-8ac4-ade4579049b2          0.636364          0.363636   \n",
       "\n",
       "                                          gender         origin      age  \\\n",
       "ef03e9ec-33a3-4733-b714-fee31a93756b        male  north_america    36_45   \n",
       "be07c01a-ddd0-40ae-a147-e0e40fb895ab      female  north_america    26_35   \n",
       "bf3eebee-327b-4136-b3fb-0729a71e93aa      female  north_america    26_35   \n",
       "0537de69-16f9-4fc6-be8f-f34537a7f01f        male           asia    26_35   \n",
       "3e906259-bd1f-4ed5-b5ad-c11a81e9d5c3        male  north_america    26_35   \n",
       "bda40549-d39d-4a43-88a9-a06ba251d1d7      female  north_america    36_45   \n",
       "ff1048ec-3f11-44c1-a715-dc632b86aee7      female  north_america    36_45   \n",
       "78b800ab-37b4-43d5-9b88-f984c92d06a3        male  north_america    26_35   \n",
       "30f8b39d-0439-4571-89b7-da317d433397        male  north_america    26_35   \n",
       "75a4ca19-07a5-4161-8ac4-ade4579049b2  non_binary  north_america  over_55   \n",
       "\n",
       "                                       phishing  \n",
       "ef03e9ec-33a3-4733-b714-fee31a93756b         no  \n",
       "be07c01a-ddd0-40ae-a147-e0e40fb895ab        yes  \n",
       "bf3eebee-327b-4136-b3fb-0729a71e93aa        yes  \n",
       "0537de69-16f9-4fc6-be8f-f34537a7f01f         no  \n",
       "3e906259-bd1f-4ed5-b5ad-c11a81e9d5c3         no  \n",
       "bda40549-d39d-4a43-88a9-a06ba251d1d7         no  \n",
       "ff1048ec-3f11-44c1-a715-dc632b86aee7         no  \n",
       "78b800ab-37b4-43d5-9b88-f984c92d06a3  not_known  \n",
       "30f8b39d-0439-4571-89b7-da317d433397         no  \n",
       "75a4ca19-07a5-4161-8ac4-ade4579049b2         no  "
      ]
     },
     "execution_count": 39,
     "metadata": {},
     "output_type": "execute_result"
    },
    {
     "data": {
      "image/png": "[encoded data removed]",
      "text/plain": [
       "<Figure size 720x432 with 1 Axes>"
      ]
     },
     "metadata": {
      "needs_background": "light"
     },
     "output_type": "display_data"
    }
   ],
   "source": [
    "bins_18_25 = pd.cut(statistics_per_user[statistics_per_user.age==\"18_25\"].correct_ratio, bins=[0.0, 0.1, 0.2, 0.3, 0.4, 0.5, 0.6, 0.7, 0.8, 0.9, 1.0], include_lowest=True)\n",
    "bins_26_35 = pd.cut(statistics_per_user[statistics_per_user.age==\"26_35\"].correct_ratio, bins=[0.0, 0.1, 0.2, 0.3, 0.4, 0.5, 0.6, 0.7, 0.8, 0.9, 1.0], include_lowest=True)\n",
    "bins_36_45 = pd.cut(statistics_per_user[statistics_per_user.age==\"36_45\"].correct_ratio, bins=[0.0, 0.1, 0.2, 0.3, 0.4, 0.5, 0.6, 0.7, 0.8, 0.9, 1.0], include_lowest=True)\n",
    "bins_46_55 = pd.cut(statistics_per_user[statistics_per_user.age==\"46_55\"].correct_ratio, bins=[0.0, 0.1, 0.2, 0.3, 0.4, 0.5, 0.6, 0.7, 0.8, 0.9, 1.0], include_lowest=True)\n",
    "bins_over_55 = pd.cut(statistics_per_user[statistics_per_user.age==\"over_55\"].correct_ratio, bins=[0.0, 0.1, 0.2, 0.3, 0.4, 0.5, 0.6, 0.7, 0.8, 0.9, 1.0], include_lowest=True)\n",
    "pd.DataFrame({\"18_25\": bins_18_25.value_counts().sort_index(),\\\n",
    "              \"26_35\": bins_26_35.value_counts().sort_index(),\\\n",
    "              \"36_45\": bins_36_45.value_counts().sort_index(),\\\n",
    "              \"46_55\": bins_46_55.value_counts().sort_index(),\\\n",
    "              \"over_55\": bins_over_55.value_counts().sort_index()}).plot(kind=\"bar\", color=colors)\n"
   ]
  },
  {
   "cell_type": "code",
   "execution_count": 35,
   "metadata": {
    "scrolled": true
   },
   "outputs": [
    {
     "name": "stdout",
     "output_type": "stream",
     "text": [
      "Pearson correlation coefficient:\n",
      "                         domain_count  correct_classifications  \\\n",
      "domain_count                 1.000000                 0.849542   \n",
      "correct_classifications      0.849542                 1.000000   \n",
      "ben_classifications          0.387115                -0.077349   \n",
      "mal_classifications          0.777716                 0.937652   \n",
      "ben_as_mal                   0.646541                 0.618602   \n",
      "mal_as_ben                   0.258944                -0.258363   \n",
      "mal_as_mal                   0.761706                 0.965900   \n",
      "correct_ratio                0.102213                 0.525185   \n",
      "precision                    0.130347                 0.202702   \n",
      "ben_ratio                   -0.273573                -0.628461   \n",
      "mal_ratio                    0.273573                 0.628461   \n",
      "mal_as_ben_ratio            -0.286596                -0.544803   \n",
      "ben_as_mal_ratio             0.336409                 0.569359   \n",
      "\n",
      "                         ben_classifications  mal_classifications  ben_as_mal  \\\n",
      "domain_count                        0.387115             0.777716    0.646541   \n",
      "correct_classifications            -0.077349             0.937652    0.618602   \n",
      "ben_classifications                 1.000000            -0.278539   -0.203667   \n",
      "mal_classifications                -0.278539             1.000000    0.812318   \n",
      "ben_as_mal                         -0.203667             0.812318    1.000000   \n",
      "mal_as_ben                          0.954683            -0.381151   -0.201793   \n",
      "mal_as_mal                         -0.281048             0.985034    0.699639   \n",
      "correct_ratio                      -0.551950             0.482774    0.109563   \n",
      "precision                           0.105643             0.063750   -0.225162   \n",
      "ben_ratio                           0.635508            -0.718237   -0.486730   \n",
      "mal_ratio                          -0.635508             0.718237    0.486730   \n",
      "mal_as_ben_ratio                    0.484517            -0.628861   -0.538712   \n",
      "ben_as_mal_ratio                   -0.457512             0.662337    0.587537   \n",
      "\n",
      "                         mal_as_ben  mal_as_mal  correct_ratio  precision  \\\n",
      "domain_count               0.258944    0.761706       0.102213   0.130347   \n",
      "correct_classifications   -0.258363    0.965900       0.525185   0.202702   \n",
      "ben_classifications        0.954683   -0.281048      -0.551950   0.105643   \n",
      "mal_classifications       -0.381151    0.985034       0.482774   0.063750   \n",
      "ben_as_mal                -0.201793    0.699639       0.109563  -0.225162   \n",
      "mal_as_ben                 1.000000   -0.407312      -0.697926   0.022814   \n",
      "mal_as_mal                -0.407312    1.000000       0.559066   0.144642   \n",
      "correct_ratio             -0.697926    0.559066       1.000000   0.400119   \n",
      "precision                  0.022814    0.144642       0.400119   1.000000   \n",
      "ben_ratio                  0.703442   -0.736068      -0.800962  -0.265596   \n",
      "mal_ratio                 -0.703442    0.736068       0.800962   0.265596   \n",
      "mal_as_ben_ratio           0.566985   -0.611211      -0.577790   0.142194   \n",
      "ben_as_mal_ratio          -0.532871    0.637793       0.510821  -0.076809   \n",
      "\n",
      "                         ben_ratio  mal_ratio  mal_as_ben_ratio  \\\n",
      "domain_count             -0.273573   0.273573         -0.286596   \n",
      "correct_classifications  -0.628461   0.628461         -0.544803   \n",
      "ben_classifications       0.635508  -0.635508          0.484517   \n",
      "mal_classifications      -0.718237   0.718237         -0.628861   \n",
      "ben_as_mal               -0.486730   0.486730         -0.538712   \n",
      "mal_as_ben                0.703442  -0.703442          0.566985   \n",
      "mal_as_mal               -0.736068   0.736068         -0.611211   \n",
      "correct_ratio            -0.800962   0.800962         -0.577790   \n",
      "precision                -0.265596   0.265596          0.142194   \n",
      "ben_ratio                 1.000000  -1.000000          0.713370   \n",
      "mal_ratio                -1.000000   1.000000         -0.713370   \n",
      "mal_as_ben_ratio          0.713370  -0.713370          1.000000   \n",
      "ben_as_mal_ratio         -0.752966   0.752966         -0.928383   \n",
      "\n",
      "                         ben_as_mal_ratio  \n",
      "domain_count                     0.336409  \n",
      "correct_classifications          0.569359  \n",
      "ben_classifications             -0.457512  \n",
      "mal_classifications              0.662337  \n",
      "ben_as_mal                       0.587537  \n",
      "mal_as_ben                      -0.532871  \n",
      "mal_as_mal                       0.637793  \n",
      "correct_ratio                    0.510821  \n",
      "precision                       -0.076809  \n",
      "ben_ratio                       -0.752966  \n",
      "mal_ratio                        0.752966  \n",
      "mal_as_ben_ratio                -0.928383  \n",
      "ben_as_mal_ratio                 1.000000  \n"
     ]
    },
    {
     "data": {
      "text/html": [
       "<div>\n",
       "<style scoped>\n",
       "    .dataframe tbody tr th:only-of-type {\n",
       "        vertical-align: middle;\n",
       "    }\n",
       "\n",
       "    .dataframe tbody tr th {\n",
       "        vertical-align: top;\n",
       "    }\n",
       "\n",
       "    .dataframe thead th {\n",
       "        text-align: right;\n",
       "    }\n",
       "</style>\n",
       "<table border=\"1\" class=\"dataframe\">\n",
       "  <thead>\n",
       "    <tr style=\"text-align: right;\">\n",
       "      <th></th>\n",
       "      <th>domain_count</th>\n",
       "      <th>correct_classifications</th>\n",
       "      <th>ben_classifications</th>\n",
       "      <th>mal_classifications</th>\n",
       "      <th>ben_as_mal</th>\n",
       "      <th>mal_as_ben</th>\n",
       "      <th>mal_as_mal</th>\n",
       "      <th>correct_ratio</th>\n",
       "      <th>precision</th>\n",
       "      <th>ben_ratio</th>\n",
       "      <th>mal_ratio</th>\n",
       "      <th>mal_as_ben_ratio</th>\n",
       "      <th>ben_as_mal_ratio</th>\n",
       "    </tr>\n",
       "  </thead>\n",
       "  <tbody>\n",
       "    <tr>\n",
       "      <th>domain_count</th>\n",
       "      <td>0</td>\n",
       "      <td>0</td>\n",
       "      <td>0</td>\n",
       "      <td>0</td>\n",
       "      <td>0</td>\n",
       "      <td>0</td>\n",
       "      <td>0</td>\n",
       "      <td>0.0833</td>\n",
       "      <td>0.027</td>\n",
       "      <td>0</td>\n",
       "      <td>0</td>\n",
       "      <td>0</td>\n",
       "      <td>0</td>\n",
       "    </tr>\n",
       "    <tr>\n",
       "      <th>correct_classifications</th>\n",
       "      <td>0</td>\n",
       "      <td>0</td>\n",
       "      <td>0.1906</td>\n",
       "      <td>0</td>\n",
       "      <td>0</td>\n",
       "      <td>0</td>\n",
       "      <td>0</td>\n",
       "      <td>0</td>\n",
       "      <td>0.0005</td>\n",
       "      <td>0</td>\n",
       "      <td>0</td>\n",
       "      <td>0</td>\n",
       "      <td>0</td>\n",
       "    </tr>\n",
       "    <tr>\n",
       "      <th>ben_classifications</th>\n",
       "      <td>0</td>\n",
       "      <td>0.1906</td>\n",
       "      <td>0</td>\n",
       "      <td>0</td>\n",
       "      <td>0.0005</td>\n",
       "      <td>0</td>\n",
       "      <td>0</td>\n",
       "      <td>0</td>\n",
       "      <td>0.0734</td>\n",
       "      <td>0</td>\n",
       "      <td>0</td>\n",
       "      <td>0</td>\n",
       "      <td>0</td>\n",
       "    </tr>\n",
       "    <tr>\n",
       "      <th>mal_classifications</th>\n",
       "      <td>0</td>\n",
       "      <td>0</td>\n",
       "      <td>0</td>\n",
       "      <td>0</td>\n",
       "      <td>0</td>\n",
       "      <td>0</td>\n",
       "      <td>0</td>\n",
       "      <td>0</td>\n",
       "      <td>0.2809</td>\n",
       "      <td>0</td>\n",
       "      <td>0</td>\n",
       "      <td>0</td>\n",
       "      <td>0</td>\n",
       "    </tr>\n",
       "    <tr>\n",
       "      <th>ben_as_mal</th>\n",
       "      <td>0</td>\n",
       "      <td>0</td>\n",
       "      <td>0.0005</td>\n",
       "      <td>0</td>\n",
       "      <td>0</td>\n",
       "      <td>0.0006</td>\n",
       "      <td>0</td>\n",
       "      <td>0.0633</td>\n",
       "      <td>0.0001</td>\n",
       "      <td>0</td>\n",
       "      <td>0</td>\n",
       "      <td>0</td>\n",
       "      <td>0</td>\n",
       "    </tr>\n",
       "    <tr>\n",
       "      <th>mal_as_ben</th>\n",
       "      <td>0</td>\n",
       "      <td>0</td>\n",
       "      <td>0</td>\n",
       "      <td>0</td>\n",
       "      <td>0.0006</td>\n",
       "      <td>0</td>\n",
       "      <td>0</td>\n",
       "      <td>0</td>\n",
       "      <td>0.6998</td>\n",
       "      <td>0</td>\n",
       "      <td>0</td>\n",
       "      <td>0</td>\n",
       "      <td>0</td>\n",
       "    </tr>\n",
       "    <tr>\n",
       "      <th>mal_as_mal</th>\n",
       "      <td>0</td>\n",
       "      <td>0</td>\n",
       "      <td>0</td>\n",
       "      <td>0</td>\n",
       "      <td>0</td>\n",
       "      <td>0</td>\n",
       "      <td>0</td>\n",
       "      <td>0</td>\n",
       "      <td>0.014</td>\n",
       "      <td>0</td>\n",
       "      <td>0</td>\n",
       "      <td>0</td>\n",
       "      <td>0</td>\n",
       "    </tr>\n",
       "    <tr>\n",
       "      <th>correct_ratio</th>\n",
       "      <td>0.0833</td>\n",
       "      <td>0</td>\n",
       "      <td>0</td>\n",
       "      <td>0</td>\n",
       "      <td>0.0633</td>\n",
       "      <td>0</td>\n",
       "      <td>0</td>\n",
       "      <td>0</td>\n",
       "      <td>0</td>\n",
       "      <td>0</td>\n",
       "      <td>0</td>\n",
       "      <td>0</td>\n",
       "      <td>0</td>\n",
       "    </tr>\n",
       "    <tr>\n",
       "      <th>precision</th>\n",
       "      <td>0.027</td>\n",
       "      <td>0.0005</td>\n",
       "      <td>0.0734</td>\n",
       "      <td>0.2809</td>\n",
       "      <td>0.0001</td>\n",
       "      <td>0.6998</td>\n",
       "      <td>0.014</td>\n",
       "      <td>0</td>\n",
       "      <td>0</td>\n",
       "      <td>0</td>\n",
       "      <td>0</td>\n",
       "      <td>0.0157</td>\n",
       "      <td>0.1937</td>\n",
       "    </tr>\n",
       "    <tr>\n",
       "      <th>ben_ratio</th>\n",
       "      <td>0</td>\n",
       "      <td>0</td>\n",
       "      <td>0</td>\n",
       "      <td>0</td>\n",
       "      <td>0</td>\n",
       "      <td>0</td>\n",
       "      <td>0</td>\n",
       "      <td>0</td>\n",
       "      <td>0</td>\n",
       "      <td>0</td>\n",
       "      <td>0</td>\n",
       "      <td>0</td>\n",
       "      <td>0</td>\n",
       "    </tr>\n",
       "    <tr>\n",
       "      <th>mal_ratio</th>\n",
       "      <td>0</td>\n",
       "      <td>0</td>\n",
       "      <td>0</td>\n",
       "      <td>0</td>\n",
       "      <td>0</td>\n",
       "      <td>0</td>\n",
       "      <td>0</td>\n",
       "      <td>0</td>\n",
       "      <td>0</td>\n",
       "      <td>0</td>\n",
       "      <td>0</td>\n",
       "      <td>0</td>\n",
       "      <td>0</td>\n",
       "    </tr>\n",
       "    <tr>\n",
       "      <th>mal_as_ben_ratio</th>\n",
       "      <td>0</td>\n",
       "      <td>0</td>\n",
       "      <td>0</td>\n",
       "      <td>0</td>\n",
       "      <td>0</td>\n",
       "      <td>0</td>\n",
       "      <td>0</td>\n",
       "      <td>0</td>\n",
       "      <td>0.0157</td>\n",
       "      <td>0</td>\n",
       "      <td>0</td>\n",
       "      <td>0</td>\n",
       "      <td>0</td>\n",
       "    </tr>\n",
       "    <tr>\n",
       "      <th>ben_as_mal_ratio</th>\n",
       "      <td>0</td>\n",
       "      <td>0</td>\n",
       "      <td>0</td>\n",
       "      <td>0</td>\n",
       "      <td>0</td>\n",
       "      <td>0</td>\n",
       "      <td>0</td>\n",
       "      <td>0</td>\n",
       "      <td>0.1937</td>\n",
       "      <td>0</td>\n",
       "      <td>0</td>\n",
       "      <td>0</td>\n",
       "      <td>0</td>\n",
       "    </tr>\n",
       "  </tbody>\n",
       "</table>\n",
       "</div>"
      ],
      "text/plain": [
       "                        domain_count correct_classifications  \\\n",
       "domain_count                       0                       0   \n",
       "correct_classifications            0                       0   \n",
       "ben_classifications                0                  0.1906   \n",
       "mal_classifications                0                       0   \n",
       "ben_as_mal                         0                       0   \n",
       "mal_as_ben                         0                       0   \n",
       "mal_as_mal                         0                       0   \n",
       "correct_ratio                 0.0833                       0   \n",
       "precision                      0.027                  0.0005   \n",
       "ben_ratio                          0                       0   \n",
       "mal_ratio                          0                       0   \n",
       "mal_as_ben_ratio                   0                       0   \n",
       "ben_as_mal_ratio                   0                       0   \n",
       "\n",
       "                        ben_classifications mal_classifications ben_as_mal  \\\n",
       "domain_count                              0                   0          0   \n",
       "correct_classifications              0.1906                   0          0   \n",
       "ben_classifications                       0                   0     0.0005   \n",
       "mal_classifications                       0                   0          0   \n",
       "ben_as_mal                           0.0005                   0          0   \n",
       "mal_as_ben                                0                   0     0.0006   \n",
       "mal_as_mal                                0                   0          0   \n",
       "correct_ratio                             0                   0     0.0633   \n",
       "precision                            0.0734              0.2809     0.0001   \n",
       "ben_ratio                                 0                   0          0   \n",
       "mal_ratio                                 0                   0          0   \n",
       "mal_as_ben_ratio                          0                   0          0   \n",
       "ben_as_mal_ratio                          0                   0          0   \n",
       "\n",
       "                        mal_as_ben mal_as_mal correct_ratio precision  \\\n",
       "domain_count                     0          0        0.0833     0.027   \n",
       "correct_classifications          0          0             0    0.0005   \n",
       "ben_classifications              0          0             0    0.0734   \n",
       "mal_classifications              0          0             0    0.2809   \n",
       "ben_as_mal                  0.0006          0        0.0633    0.0001   \n",
       "mal_as_ben                       0          0             0    0.6998   \n",
       "mal_as_mal                       0          0             0     0.014   \n",
       "correct_ratio                    0          0             0         0   \n",
       "precision                   0.6998      0.014             0         0   \n",
       "ben_ratio                        0          0             0         0   \n",
       "mal_ratio                        0          0             0         0   \n",
       "mal_as_ben_ratio                 0          0             0    0.0157   \n",
       "ben_as_mal_ratio                 0          0             0    0.1937   \n",
       "\n",
       "                        ben_ratio mal_ratio mal_as_ben_ratio ben_as_mal_ratio  \n",
       "domain_count                    0         0                0                0  \n",
       "correct_classifications         0         0                0                0  \n",
       "ben_classifications             0         0                0                0  \n",
       "mal_classifications             0         0                0                0  \n",
       "ben_as_mal                      0         0                0                0  \n",
       "mal_as_ben                      0         0                0                0  \n",
       "mal_as_mal                      0         0                0                0  \n",
       "correct_ratio                   0         0                0                0  \n",
       "precision                       0         0           0.0157           0.1937  \n",
       "ben_ratio                       0         0                0                0  \n",
       "mal_ratio                       0         0                0                0  \n",
       "mal_as_ben_ratio                0         0                0                0  \n",
       "ben_as_mal_ratio                0         0                0                0  "
      ]
     },
     "execution_count": 35,
     "metadata": {},
     "output_type": "execute_result"
    }
   ],
   "source": [
    "import scipy as sp\n",
    "from scipy.stats import pearsonr\n",
    "\n",
    "def calculate_pvalues(df):\n",
    "    df = df.dropna()._get_numeric_data()\n",
    "    dfcols = pd.DataFrame(columns=df.columns)\n",
    "    pvalues = dfcols.transpose().join(dfcols, how='outer')\n",
    "    for r in df.columns:\n",
    "        for c in df.columns:\n",
    "            pvalues[r][c] = round(pearsonr(df[r], df[c])[1], 4)\n",
    "    return pvalues\n",
    "\n",
    "dataFrame = pd.DataFrame(data=statistics_per_user);\n",
    "\n",
    "#print(\"DataFrame:\");\n",
    "#print(dataFrame);\n",
    "\n",
    "correlation    = dataFrame.corr(method=\"pearson\");\n",
    "\n",
    "print(\"Pearson correlation coefficient:\");\n",
    "print(correlation);\n",
    "\n",
    "calculate_pvalues(dataFrame)\n",
    "\n",
    " "
   ]
  },
  {
   "cell_type": "code",
   "execution_count": 51,
   "metadata": {},
   "outputs": [
    {
     "data": {
      "text/plain": [
       "(479.5785440613027,\n",
       " 0.9999987028280003,\n",
       " 633,\n",
       " array([[1.12500000e+00, 3.75000000e-01, 3.75000000e-01, 3.75000000e-01,\n",
       "         3.75000000e-01, 3.75000000e-01, 3.75000000e-01, 3.75000000e-01,\n",
       "         3.75000000e-01, 3.75000000e-01, 3.75000000e-01, 3.75000000e-01,\n",
       "         3.75000000e-01, 3.75000000e-01, 3.75000000e-01, 3.75000000e-01,\n",
       "         3.75000000e-01, 3.75000000e-01, 3.75000000e-01, 3.75000000e-01,\n",
       "         3.75000000e-01, 3.75000000e-01, 3.75000000e-01, 3.75000000e-01,\n",
       "         3.75000000e-01, 3.75000000e-01, 3.75000000e-01, 3.75000000e-01,\n",
       "         3.75000000e-01, 3.75000000e-01, 3.75000000e-01, 3.75000000e-01,\n",
       "         3.75000000e-01, 7.50000000e-01, 3.75000000e-01, 3.75000000e-01,\n",
       "         3.75000000e-01, 3.75000000e-01, 7.50000000e-01, 3.75000000e-01,\n",
       "         3.75000000e-01, 3.75000000e-01, 3.75000000e-01, 7.50000000e-01,\n",
       "         3.75000000e-01, 3.75000000e-01, 3.75000000e-01, 7.50000000e-01,\n",
       "         3.75000000e-01, 7.50000000e-01, 3.75000000e-01, 3.75000000e-01,\n",
       "         3.75000000e-01, 3.75000000e-01, 7.50000000e-01, 3.75000000e-01,\n",
       "         3.75000000e-01, 3.75000000e-01, 1.12500000e+00, 3.75000000e-01,\n",
       "         3.75000000e-01, 3.75000000e-01, 3.75000000e-01, 3.75000000e-01,\n",
       "         7.50000000e-01, 3.75000000e-01, 7.50000000e-01, 3.75000000e-01,\n",
       "         3.75000000e-01, 7.50000000e-01, 7.50000000e-01, 3.75000000e-01,\n",
       "         3.75000000e-01, 3.75000000e-01, 3.75000000e-01, 3.75000000e-01,\n",
       "         3.75000000e-01, 3.75000000e-01, 7.50000000e-01, 3.75000000e-01,\n",
       "         3.75000000e-01, 3.75000000e-01, 3.75000000e-01, 3.75000000e-01,\n",
       "         3.75000000e-01, 7.50000000e-01, 3.75000000e-01, 3.75000000e-01,\n",
       "         3.75000000e-01, 1.12500000e+00, 3.75000000e-01, 7.50000000e-01,\n",
       "         3.75000000e-01, 7.50000000e-01, 1.12500000e+00, 3.75000000e-01,\n",
       "         3.75000000e-01, 3.75000000e-01, 3.75000000e-01, 3.75000000e-01,\n",
       "         3.75000000e-01, 3.75000000e-01, 7.50000000e-01, 3.75000000e-01,\n",
       "         3.75000000e-01, 7.50000000e-01, 3.75000000e-01, 3.75000000e-01,\n",
       "         3.75000000e-01, 3.75000000e-01, 1.12500000e+00, 3.75000000e-01,\n",
       "         3.75000000e-01, 3.75000000e-01, 7.50000000e-01, 3.75000000e-01,\n",
       "         3.75000000e-01, 7.50000000e-01, 3.75000000e-01, 3.75000000e-01,\n",
       "         3.75000000e-01, 1.12500000e+00, 3.75000000e-01, 1.50000000e+00,\n",
       "         3.75000000e-01, 3.75000000e-01, 3.75000000e-01, 3.75000000e-01,\n",
       "         3.75000000e-01, 7.50000000e-01, 3.75000000e-01, 2.25000000e+00,\n",
       "         3.75000000e-01, 3.75000000e-01, 1.12500000e+00, 3.75000000e-01,\n",
       "         3.75000000e-01, 7.50000000e-01, 3.75000000e-01, 3.75000000e-01,\n",
       "         1.12500000e+00, 7.50000000e-01, 7.50000000e-01, 3.75000000e-01,\n",
       "         7.50000000e-01, 3.75000000e-01, 3.75000000e-01, 7.50000000e-01,\n",
       "         3.75000000e-01, 1.12500000e+00, 7.50000000e-01, 3.75000000e-01,\n",
       "         3.75000000e-01, 7.50000000e-01, 3.75000000e-01, 2.25000000e+00,\n",
       "         3.75000000e-01, 3.75000000e-01, 3.75000000e-01, 3.75000000e-01,\n",
       "         3.75000000e-01, 3.75000000e-01, 3.75000000e-01, 3.75000000e-01,\n",
       "         3.75000000e-01, 3.75000000e-01, 7.50000000e-01, 3.75000000e-01,\n",
       "         3.75000000e-01, 1.12500000e+00, 3.75000000e-01, 3.75000000e-01,\n",
       "         3.75000000e-01, 3.75000000e-01, 7.50000000e-01, 3.75000000e-01,\n",
       "         3.75000000e-01, 3.75000000e-01, 3.75000000e-01, 3.75000000e-01,\n",
       "         7.50000000e-01, 3.75000000e-01, 7.50000000e-01, 3.75000000e-01,\n",
       "         3.75000000e-01, 3.75000000e-01, 7.50000000e-01, 3.75000000e-01,\n",
       "         3.75000000e-01, 1.12500000e+00, 3.75000000e-01, 3.75000000e-01,\n",
       "         1.12500000e+00, 3.75000000e-01, 3.75000000e-01, 7.50000000e-01,\n",
       "         3.75000000e-01, 7.50000000e-01, 3.75000000e-01, 3.75000000e-01,\n",
       "         3.75000000e-01, 7.50000000e-01, 3.75000000e-01, 3.75000000e-01,\n",
       "         3.75000000e-01, 3.75000000e-01, 3.75000000e-01, 3.75000000e-01,\n",
       "         3.75000000e-01, 3.75000000e-01, 3.75000000e-01, 2.25000000e+00],\n",
       "        [1.81250000e+00, 6.04166667e-01, 6.04166667e-01, 6.04166667e-01,\n",
       "         6.04166667e-01, 6.04166667e-01, 6.04166667e-01, 6.04166667e-01,\n",
       "         6.04166667e-01, 6.04166667e-01, 6.04166667e-01, 6.04166667e-01,\n",
       "         6.04166667e-01, 6.04166667e-01, 6.04166667e-01, 6.04166667e-01,\n",
       "         6.04166667e-01, 6.04166667e-01, 6.04166667e-01, 6.04166667e-01,\n",
       "         6.04166667e-01, 6.04166667e-01, 6.04166667e-01, 6.04166667e-01,\n",
       "         6.04166667e-01, 6.04166667e-01, 6.04166667e-01, 6.04166667e-01,\n",
       "         6.04166667e-01, 6.04166667e-01, 6.04166667e-01, 6.04166667e-01,\n",
       "         6.04166667e-01, 1.20833333e+00, 6.04166667e-01, 6.04166667e-01,\n",
       "         6.04166667e-01, 6.04166667e-01, 1.20833333e+00, 6.04166667e-01,\n",
       "         6.04166667e-01, 6.04166667e-01, 6.04166667e-01, 1.20833333e+00,\n",
       "         6.04166667e-01, 6.04166667e-01, 6.04166667e-01, 1.20833333e+00,\n",
       "         6.04166667e-01, 1.20833333e+00, 6.04166667e-01, 6.04166667e-01,\n",
       "         6.04166667e-01, 6.04166667e-01, 1.20833333e+00, 6.04166667e-01,\n",
       "         6.04166667e-01, 6.04166667e-01, 1.81250000e+00, 6.04166667e-01,\n",
       "         6.04166667e-01, 6.04166667e-01, 6.04166667e-01, 6.04166667e-01,\n",
       "         1.20833333e+00, 6.04166667e-01, 1.20833333e+00, 6.04166667e-01,\n",
       "         6.04166667e-01, 1.20833333e+00, 1.20833333e+00, 6.04166667e-01,\n",
       "         6.04166667e-01, 6.04166667e-01, 6.04166667e-01, 6.04166667e-01,\n",
       "         6.04166667e-01, 6.04166667e-01, 1.20833333e+00, 6.04166667e-01,\n",
       "         6.04166667e-01, 6.04166667e-01, 6.04166667e-01, 6.04166667e-01,\n",
       "         6.04166667e-01, 1.20833333e+00, 6.04166667e-01, 6.04166667e-01,\n",
       "         6.04166667e-01, 1.81250000e+00, 6.04166667e-01, 1.20833333e+00,\n",
       "         6.04166667e-01, 1.20833333e+00, 1.81250000e+00, 6.04166667e-01,\n",
       "         6.04166667e-01, 6.04166667e-01, 6.04166667e-01, 6.04166667e-01,\n",
       "         6.04166667e-01, 6.04166667e-01, 1.20833333e+00, 6.04166667e-01,\n",
       "         6.04166667e-01, 1.20833333e+00, 6.04166667e-01, 6.04166667e-01,\n",
       "         6.04166667e-01, 6.04166667e-01, 1.81250000e+00, 6.04166667e-01,\n",
       "         6.04166667e-01, 6.04166667e-01, 1.20833333e+00, 6.04166667e-01,\n",
       "         6.04166667e-01, 1.20833333e+00, 6.04166667e-01, 6.04166667e-01,\n",
       "         6.04166667e-01, 1.81250000e+00, 6.04166667e-01, 2.41666667e+00,\n",
       "         6.04166667e-01, 6.04166667e-01, 6.04166667e-01, 6.04166667e-01,\n",
       "         6.04166667e-01, 1.20833333e+00, 6.04166667e-01, 3.62500000e+00,\n",
       "         6.04166667e-01, 6.04166667e-01, 1.81250000e+00, 6.04166667e-01,\n",
       "         6.04166667e-01, 1.20833333e+00, 6.04166667e-01, 6.04166667e-01,\n",
       "         1.81250000e+00, 1.20833333e+00, 1.20833333e+00, 6.04166667e-01,\n",
       "         1.20833333e+00, 6.04166667e-01, 6.04166667e-01, 1.20833333e+00,\n",
       "         6.04166667e-01, 1.81250000e+00, 1.20833333e+00, 6.04166667e-01,\n",
       "         6.04166667e-01, 1.20833333e+00, 6.04166667e-01, 3.62500000e+00,\n",
       "         6.04166667e-01, 6.04166667e-01, 6.04166667e-01, 6.04166667e-01,\n",
       "         6.04166667e-01, 6.04166667e-01, 6.04166667e-01, 6.04166667e-01,\n",
       "         6.04166667e-01, 6.04166667e-01, 1.20833333e+00, 6.04166667e-01,\n",
       "         6.04166667e-01, 1.81250000e+00, 6.04166667e-01, 6.04166667e-01,\n",
       "         6.04166667e-01, 6.04166667e-01, 1.20833333e+00, 6.04166667e-01,\n",
       "         6.04166667e-01, 6.04166667e-01, 6.04166667e-01, 6.04166667e-01,\n",
       "         1.20833333e+00, 6.04166667e-01, 1.20833333e+00, 6.04166667e-01,\n",
       "         6.04166667e-01, 6.04166667e-01, 1.20833333e+00, 6.04166667e-01,\n",
       "         6.04166667e-01, 1.81250000e+00, 6.04166667e-01, 6.04166667e-01,\n",
       "         1.81250000e+00, 6.04166667e-01, 6.04166667e-01, 1.20833333e+00,\n",
       "         6.04166667e-01, 1.20833333e+00, 6.04166667e-01, 6.04166667e-01,\n",
       "         6.04166667e-01, 1.20833333e+00, 6.04166667e-01, 6.04166667e-01,\n",
       "         6.04166667e-01, 6.04166667e-01, 6.04166667e-01, 6.04166667e-01,\n",
       "         6.04166667e-01, 6.04166667e-01, 6.04166667e-01, 3.62500000e+00],\n",
       "        [5.20833333e-02, 1.73611111e-02, 1.73611111e-02, 1.73611111e-02,\n",
       "         1.73611111e-02, 1.73611111e-02, 1.73611111e-02, 1.73611111e-02,\n",
       "         1.73611111e-02, 1.73611111e-02, 1.73611111e-02, 1.73611111e-02,\n",
       "         1.73611111e-02, 1.73611111e-02, 1.73611111e-02, 1.73611111e-02,\n",
       "         1.73611111e-02, 1.73611111e-02, 1.73611111e-02, 1.73611111e-02,\n",
       "         1.73611111e-02, 1.73611111e-02, 1.73611111e-02, 1.73611111e-02,\n",
       "         1.73611111e-02, 1.73611111e-02, 1.73611111e-02, 1.73611111e-02,\n",
       "         1.73611111e-02, 1.73611111e-02, 1.73611111e-02, 1.73611111e-02,\n",
       "         1.73611111e-02, 3.47222222e-02, 1.73611111e-02, 1.73611111e-02,\n",
       "         1.73611111e-02, 1.73611111e-02, 3.47222222e-02, 1.73611111e-02,\n",
       "         1.73611111e-02, 1.73611111e-02, 1.73611111e-02, 3.47222222e-02,\n",
       "         1.73611111e-02, 1.73611111e-02, 1.73611111e-02, 3.47222222e-02,\n",
       "         1.73611111e-02, 3.47222222e-02, 1.73611111e-02, 1.73611111e-02,\n",
       "         1.73611111e-02, 1.73611111e-02, 3.47222222e-02, 1.73611111e-02,\n",
       "         1.73611111e-02, 1.73611111e-02, 5.20833333e-02, 1.73611111e-02,\n",
       "         1.73611111e-02, 1.73611111e-02, 1.73611111e-02, 1.73611111e-02,\n",
       "         3.47222222e-02, 1.73611111e-02, 3.47222222e-02, 1.73611111e-02,\n",
       "         1.73611111e-02, 3.47222222e-02, 3.47222222e-02, 1.73611111e-02,\n",
       "         1.73611111e-02, 1.73611111e-02, 1.73611111e-02, 1.73611111e-02,\n",
       "         1.73611111e-02, 1.73611111e-02, 3.47222222e-02, 1.73611111e-02,\n",
       "         1.73611111e-02, 1.73611111e-02, 1.73611111e-02, 1.73611111e-02,\n",
       "         1.73611111e-02, 3.47222222e-02, 1.73611111e-02, 1.73611111e-02,\n",
       "         1.73611111e-02, 5.20833333e-02, 1.73611111e-02, 3.47222222e-02,\n",
       "         1.73611111e-02, 3.47222222e-02, 5.20833333e-02, 1.73611111e-02,\n",
       "         1.73611111e-02, 1.73611111e-02, 1.73611111e-02, 1.73611111e-02,\n",
       "         1.73611111e-02, 1.73611111e-02, 3.47222222e-02, 1.73611111e-02,\n",
       "         1.73611111e-02, 3.47222222e-02, 1.73611111e-02, 1.73611111e-02,\n",
       "         1.73611111e-02, 1.73611111e-02, 5.20833333e-02, 1.73611111e-02,\n",
       "         1.73611111e-02, 1.73611111e-02, 3.47222222e-02, 1.73611111e-02,\n",
       "         1.73611111e-02, 3.47222222e-02, 1.73611111e-02, 1.73611111e-02,\n",
       "         1.73611111e-02, 5.20833333e-02, 1.73611111e-02, 6.94444444e-02,\n",
       "         1.73611111e-02, 1.73611111e-02, 1.73611111e-02, 1.73611111e-02,\n",
       "         1.73611111e-02, 3.47222222e-02, 1.73611111e-02, 1.04166667e-01,\n",
       "         1.73611111e-02, 1.73611111e-02, 5.20833333e-02, 1.73611111e-02,\n",
       "         1.73611111e-02, 3.47222222e-02, 1.73611111e-02, 1.73611111e-02,\n",
       "         5.20833333e-02, 3.47222222e-02, 3.47222222e-02, 1.73611111e-02,\n",
       "         3.47222222e-02, 1.73611111e-02, 1.73611111e-02, 3.47222222e-02,\n",
       "         1.73611111e-02, 5.20833333e-02, 3.47222222e-02, 1.73611111e-02,\n",
       "         1.73611111e-02, 3.47222222e-02, 1.73611111e-02, 1.04166667e-01,\n",
       "         1.73611111e-02, 1.73611111e-02, 1.73611111e-02, 1.73611111e-02,\n",
       "         1.73611111e-02, 1.73611111e-02, 1.73611111e-02, 1.73611111e-02,\n",
       "         1.73611111e-02, 1.73611111e-02, 3.47222222e-02, 1.73611111e-02,\n",
       "         1.73611111e-02, 5.20833333e-02, 1.73611111e-02, 1.73611111e-02,\n",
       "         1.73611111e-02, 1.73611111e-02, 3.47222222e-02, 1.73611111e-02,\n",
       "         1.73611111e-02, 1.73611111e-02, 1.73611111e-02, 1.73611111e-02,\n",
       "         3.47222222e-02, 1.73611111e-02, 3.47222222e-02, 1.73611111e-02,\n",
       "         1.73611111e-02, 1.73611111e-02, 3.47222222e-02, 1.73611111e-02,\n",
       "         1.73611111e-02, 5.20833333e-02, 1.73611111e-02, 1.73611111e-02,\n",
       "         5.20833333e-02, 1.73611111e-02, 1.73611111e-02, 3.47222222e-02,\n",
       "         1.73611111e-02, 3.47222222e-02, 1.73611111e-02, 1.73611111e-02,\n",
       "         1.73611111e-02, 3.47222222e-02, 1.73611111e-02, 1.73611111e-02,\n",
       "         1.73611111e-02, 1.73611111e-02, 1.73611111e-02, 1.73611111e-02,\n",
       "         1.73611111e-02, 1.73611111e-02, 1.73611111e-02, 1.04166667e-01],\n",
       "        [1.04166667e-02, 3.47222222e-03, 3.47222222e-03, 3.47222222e-03,\n",
       "         3.47222222e-03, 3.47222222e-03, 3.47222222e-03, 3.47222222e-03,\n",
       "         3.47222222e-03, 3.47222222e-03, 3.47222222e-03, 3.47222222e-03,\n",
       "         3.47222222e-03, 3.47222222e-03, 3.47222222e-03, 3.47222222e-03,\n",
       "         3.47222222e-03, 3.47222222e-03, 3.47222222e-03, 3.47222222e-03,\n",
       "         3.47222222e-03, 3.47222222e-03, 3.47222222e-03, 3.47222222e-03,\n",
       "         3.47222222e-03, 3.47222222e-03, 3.47222222e-03, 3.47222222e-03,\n",
       "         3.47222222e-03, 3.47222222e-03, 3.47222222e-03, 3.47222222e-03,\n",
       "         3.47222222e-03, 6.94444444e-03, 3.47222222e-03, 3.47222222e-03,\n",
       "         3.47222222e-03, 3.47222222e-03, 6.94444444e-03, 3.47222222e-03,\n",
       "         3.47222222e-03, 3.47222222e-03, 3.47222222e-03, 6.94444444e-03,\n",
       "         3.47222222e-03, 3.47222222e-03, 3.47222222e-03, 6.94444444e-03,\n",
       "         3.47222222e-03, 6.94444444e-03, 3.47222222e-03, 3.47222222e-03,\n",
       "         3.47222222e-03, 3.47222222e-03, 6.94444444e-03, 3.47222222e-03,\n",
       "         3.47222222e-03, 3.47222222e-03, 1.04166667e-02, 3.47222222e-03,\n",
       "         3.47222222e-03, 3.47222222e-03, 3.47222222e-03, 3.47222222e-03,\n",
       "         6.94444444e-03, 3.47222222e-03, 6.94444444e-03, 3.47222222e-03,\n",
       "         3.47222222e-03, 6.94444444e-03, 6.94444444e-03, 3.47222222e-03,\n",
       "         3.47222222e-03, 3.47222222e-03, 3.47222222e-03, 3.47222222e-03,\n",
       "         3.47222222e-03, 3.47222222e-03, 6.94444444e-03, 3.47222222e-03,\n",
       "         3.47222222e-03, 3.47222222e-03, 3.47222222e-03, 3.47222222e-03,\n",
       "         3.47222222e-03, 6.94444444e-03, 3.47222222e-03, 3.47222222e-03,\n",
       "         3.47222222e-03, 1.04166667e-02, 3.47222222e-03, 6.94444444e-03,\n",
       "         3.47222222e-03, 6.94444444e-03, 1.04166667e-02, 3.47222222e-03,\n",
       "         3.47222222e-03, 3.47222222e-03, 3.47222222e-03, 3.47222222e-03,\n",
       "         3.47222222e-03, 3.47222222e-03, 6.94444444e-03, 3.47222222e-03,\n",
       "         3.47222222e-03, 6.94444444e-03, 3.47222222e-03, 3.47222222e-03,\n",
       "         3.47222222e-03, 3.47222222e-03, 1.04166667e-02, 3.47222222e-03,\n",
       "         3.47222222e-03, 3.47222222e-03, 6.94444444e-03, 3.47222222e-03,\n",
       "         3.47222222e-03, 6.94444444e-03, 3.47222222e-03, 3.47222222e-03,\n",
       "         3.47222222e-03, 1.04166667e-02, 3.47222222e-03, 1.38888889e-02,\n",
       "         3.47222222e-03, 3.47222222e-03, 3.47222222e-03, 3.47222222e-03,\n",
       "         3.47222222e-03, 6.94444444e-03, 3.47222222e-03, 2.08333333e-02,\n",
       "         3.47222222e-03, 3.47222222e-03, 1.04166667e-02, 3.47222222e-03,\n",
       "         3.47222222e-03, 6.94444444e-03, 3.47222222e-03, 3.47222222e-03,\n",
       "         1.04166667e-02, 6.94444444e-03, 6.94444444e-03, 3.47222222e-03,\n",
       "         6.94444444e-03, 3.47222222e-03, 3.47222222e-03, 6.94444444e-03,\n",
       "         3.47222222e-03, 1.04166667e-02, 6.94444444e-03, 3.47222222e-03,\n",
       "         3.47222222e-03, 6.94444444e-03, 3.47222222e-03, 2.08333333e-02,\n",
       "         3.47222222e-03, 3.47222222e-03, 3.47222222e-03, 3.47222222e-03,\n",
       "         3.47222222e-03, 3.47222222e-03, 3.47222222e-03, 3.47222222e-03,\n",
       "         3.47222222e-03, 3.47222222e-03, 6.94444444e-03, 3.47222222e-03,\n",
       "         3.47222222e-03, 1.04166667e-02, 3.47222222e-03, 3.47222222e-03,\n",
       "         3.47222222e-03, 3.47222222e-03, 6.94444444e-03, 3.47222222e-03,\n",
       "         3.47222222e-03, 3.47222222e-03, 3.47222222e-03, 3.47222222e-03,\n",
       "         6.94444444e-03, 3.47222222e-03, 6.94444444e-03, 3.47222222e-03,\n",
       "         3.47222222e-03, 3.47222222e-03, 6.94444444e-03, 3.47222222e-03,\n",
       "         3.47222222e-03, 1.04166667e-02, 3.47222222e-03, 3.47222222e-03,\n",
       "         1.04166667e-02, 3.47222222e-03, 3.47222222e-03, 6.94444444e-03,\n",
       "         3.47222222e-03, 6.94444444e-03, 3.47222222e-03, 3.47222222e-03,\n",
       "         3.47222222e-03, 6.94444444e-03, 3.47222222e-03, 3.47222222e-03,\n",
       "         3.47222222e-03, 3.47222222e-03, 3.47222222e-03, 3.47222222e-03,\n",
       "         3.47222222e-03, 3.47222222e-03, 3.47222222e-03, 2.08333333e-02]]))"
      ]
     },
     "execution_count": 51,
     "metadata": {},
     "output_type": "execute_result"
    }
   ],
   "source": [
    "from scipy.stats import chi2_contingency\n",
    "\n",
    "def chisq_of_df_cols(df, c1, c2):\n",
    "    groupsizes = df.groupby([c1, c2]).size()\n",
    "    ctsum = groupsizes.unstack(c1)\n",
    "    # fillna(0) is necessary to remove any NAs which will cause exceptions\n",
    "    return(chi2_contingency(ctsum.fillna(0)))\n",
    "\n",
    "chisq_of_df_cols(dataFrame, 'correct_ratio', 'gender')"
   ]
  }
 ],
 "metadata": {
  "kernelspec": {
   "display_name": "Python 3",
   "language": "python",
   "name": "python3"
  },
  "language_info": {
   "codemirror_mode": {
    "name": "ipython",
    "version": 3
   },
   "file_extension": ".py",
   "mimetype": "text/x-python",
   "name": "python",
   "nbconvert_exporter": "python",
   "pygments_lexer": "ipython3",
   "version": "3.5.2"
  }
 },
 "nbformat": 4,
 "nbformat_minor": 2
}
