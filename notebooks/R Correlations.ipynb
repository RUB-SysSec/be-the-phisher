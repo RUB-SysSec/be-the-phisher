{
 "cells": [
  {
   "cell_type": "code",
   "execution_count": 9,
   "metadata": {},
   "outputs": [],
   "source": [
    "step1 = read.csv(\"../survey_tool/data/results/full_study/step1.csv\", header = TRUE)\n",
    "step2 = read.csv(\"../survey_tool/data/results/full_study/step2.csv\", header = TRUE)\n",
    "step3 = read.csv(\"../survey_tool/data/results/full_study/step3.csv\", header = TRUE)\n",
    "step4 = read.csv(\"../survey_tool/data/results/full_study/step4.csv\", header = TRUE)\n",
    "participants = read.csv(\"../survey_tool/data/results/full_study/test_persons.csv\", header = TRUE)\n"
   ]
  },
  {
   "cell_type": "code",
   "execution_count": 42,
   "metadata": {},
   "outputs": [
    {
     "data": {
      "text/html": [
       "<table>\n",
       "<caption>A data.frame: 6 × 42</caption>\n",
       "<thead>\n",
       "\t<tr><th></th><th scope=col>user_id</th><th scope=col>test_domain</th><th scope=col>classification</th><th scope=col>elapsed_time</th><th scope=col>result</th><th scope=col>completion_code</th><th scope=col>os</th><th scope=col>browser</th><th scope=col>version</th><th scope=col>is_mobile</th><th scope=col>⋯</th><th scope=col>f14</th><th scope=col>f15</th><th scope=col>f16</th><th scope=col>sum</th><th scope=col>avg</th><th scope=col>attention_test1</th><th scope=col>attention_test2</th><th scope=col>phishing</th><th scope=col>techniques</th><th scope=col>future</th></tr>\n",
       "\t<tr><th></th><th scope=col>&lt;fct&gt;</th><th scope=col>&lt;fct&gt;</th><th scope=col>&lt;int&gt;</th><th scope=col>&lt;int&gt;</th><th scope=col>&lt;int&gt;</th><th scope=col>&lt;fct&gt;</th><th scope=col>&lt;fct&gt;</th><th scope=col>&lt;fct&gt;</th><th scope=col>&lt;fct&gt;</th><th scope=col>&lt;int&gt;</th><th scope=col>⋯</th><th scope=col>&lt;int&gt;</th><th scope=col>&lt;int&gt;</th><th scope=col>&lt;int&gt;</th><th scope=col>&lt;int&gt;</th><th scope=col>&lt;dbl&gt;</th><th scope=col>&lt;fct&gt;</th><th scope=col>&lt;fct&gt;</th><th scope=col>&lt;fct&gt;</th><th scope=col>&lt;fct&gt;</th><th scope=col>&lt;fct&gt;</th></tr>\n",
       "</thead>\n",
       "<tbody>\n",
       "\t<tr><th scope=row>1</th><td>ef03e9ec-33a3-4733-b714-fee31a93756b</td><td>newsroom.fb.com                                    </td><td>0</td><td>3664</td><td>1</td><td>dd2b51e6-baa4-40f2-9a65-90fb0d8d2ea5</td><td>Windows 10.0</td><td>Chrome</td><td>78.0.3904.97</td><td>0</td><td>⋯</td><td>0</td><td>2</td><td>0</td><td>16</td><td>1</td><td>never</td><td>often</td><td>no</td><td>no</td><td>yes</td></tr>\n",
       "\t<tr><th scope=row>2</th><td>ef03e9ec-33a3-4733-b714-fee31a93756b</td><td>docusign.com                                       </td><td>0</td><td>3568</td><td>0</td><td>dd2b51e6-baa4-40f2-9a65-90fb0d8d2ea5</td><td>Windows 10.0</td><td>Chrome</td><td>78.0.3904.97</td><td>0</td><td>⋯</td><td>0</td><td>2</td><td>0</td><td>16</td><td>1</td><td>never</td><td>often</td><td>no</td><td>no</td><td>yes</td></tr>\n",
       "\t<tr><th scope=row>3</th><td>ef03e9ec-33a3-4733-b714-fee31a93756b</td><td>webdropbox.net                                     </td><td>1</td><td>1984</td><td>1</td><td>dd2b51e6-baa4-40f2-9a65-90fb0d8d2ea5</td><td>Windows 10.0</td><td>Chrome</td><td>78.0.3904.97</td><td>0</td><td>⋯</td><td>0</td><td>2</td><td>0</td><td>16</td><td>1</td><td>never</td><td>often</td><td>no</td><td>no</td><td>yes</td></tr>\n",
       "\t<tr><th scope=row>4</th><td>ef03e9ec-33a3-4733-b714-fee31a93756b</td><td>jpmorganchaseonlinebankingverification.typeform.com</td><td>1</td><td>1623</td><td>1</td><td>dd2b51e6-baa4-40f2-9a65-90fb0d8d2ea5</td><td>Windows 10.0</td><td>Chrome</td><td>78.0.3904.97</td><td>0</td><td>⋯</td><td>0</td><td>2</td><td>0</td><td>16</td><td>1</td><td>never</td><td>often</td><td>no</td><td>no</td><td>yes</td></tr>\n",
       "\t<tr><th scope=row>5</th><td>ef03e9ec-33a3-4733-b714-fee31a93756b</td><td>dropbox.reddirtbbq.com                             </td><td>1</td><td>1745</td><td>1</td><td>dd2b51e6-baa4-40f2-9a65-90fb0d8d2ea5</td><td>Windows 10.0</td><td>Chrome</td><td>78.0.3904.97</td><td>0</td><td>⋯</td><td>0</td><td>2</td><td>0</td><td>16</td><td>1</td><td>never</td><td>often</td><td>no</td><td>no</td><td>yes</td></tr>\n",
       "\t<tr><th scope=row>6</th><td>ef03e9ec-33a3-4733-b714-fee31a93756b</td><td>apple.com                                          </td><td>0</td><td>2336</td><td>0</td><td>dd2b51e6-baa4-40f2-9a65-90fb0d8d2ea5</td><td>Windows 10.0</td><td>Chrome</td><td>78.0.3904.97</td><td>0</td><td>⋯</td><td>0</td><td>2</td><td>0</td><td>16</td><td>1</td><td>never</td><td>often</td><td>no</td><td>no</td><td>yes</td></tr>\n",
       "</tbody>\n",
       "</table>\n"
      ],
      "text/latex": [
       "A data.frame: 6 × 42\n",
       "\\begin{tabular}{r|lllllllllllllllllllll}\n",
       "  & user\\_id & test\\_domain & classification & elapsed\\_time & result & completion\\_code & os & browser & version & is\\_mobile & ⋯ & f14 & f15 & f16 & sum & avg & attention\\_test1 & attention\\_test2 & phishing & techniques & future\\\\\n",
       "  & <fct> & <fct> & <int> & <int> & <int> & <fct> & <fct> & <fct> & <fct> & <int> & ⋯ & <int> & <int> & <int> & <int> & <dbl> & <fct> & <fct> & <fct> & <fct> & <fct>\\\\\n",
       "\\hline\n",
       "\t1 & ef03e9ec-33a3-4733-b714-fee31a93756b & newsroom.fb.com                                     & 0 & 3664 & 1 & dd2b51e6-baa4-40f2-9a65-90fb0d8d2ea5 & Windows 10.0 & Chrome & 78.0.3904.97 & 0 & ⋯ & 0 & 2 & 0 & 16 & 1 & never & often & no & no & yes\\\\\n",
       "\t2 & ef03e9ec-33a3-4733-b714-fee31a93756b & docusign.com                                        & 0 & 3568 & 0 & dd2b51e6-baa4-40f2-9a65-90fb0d8d2ea5 & Windows 10.0 & Chrome & 78.0.3904.97 & 0 & ⋯ & 0 & 2 & 0 & 16 & 1 & never & often & no & no & yes\\\\\n",
       "\t3 & ef03e9ec-33a3-4733-b714-fee31a93756b & webdropbox.net                                      & 1 & 1984 & 1 & dd2b51e6-baa4-40f2-9a65-90fb0d8d2ea5 & Windows 10.0 & Chrome & 78.0.3904.97 & 0 & ⋯ & 0 & 2 & 0 & 16 & 1 & never & often & no & no & yes\\\\\n",
       "\t4 & ef03e9ec-33a3-4733-b714-fee31a93756b & jpmorganchaseonlinebankingverification.typeform.com & 1 & 1623 & 1 & dd2b51e6-baa4-40f2-9a65-90fb0d8d2ea5 & Windows 10.0 & Chrome & 78.0.3904.97 & 0 & ⋯ & 0 & 2 & 0 & 16 & 1 & never & often & no & no & yes\\\\\n",
       "\t5 & ef03e9ec-33a3-4733-b714-fee31a93756b & dropbox.reddirtbbq.com                              & 1 & 1745 & 1 & dd2b51e6-baa4-40f2-9a65-90fb0d8d2ea5 & Windows 10.0 & Chrome & 78.0.3904.97 & 0 & ⋯ & 0 & 2 & 0 & 16 & 1 & never & often & no & no & yes\\\\\n",
       "\t6 & ef03e9ec-33a3-4733-b714-fee31a93756b & apple.com                                           & 0 & 2336 & 0 & dd2b51e6-baa4-40f2-9a65-90fb0d8d2ea5 & Windows 10.0 & Chrome & 78.0.3904.97 & 0 & ⋯ & 0 & 2 & 0 & 16 & 1 & never & often & no & no & yes\\\\\n",
       "\\end{tabular}\n"
      ],
      "text/markdown": [
       "\n",
       "A data.frame: 6 × 42\n",
       "\n",
       "| <!--/--> | user_id &lt;fct&gt; | test_domain &lt;fct&gt; | classification &lt;int&gt; | elapsed_time &lt;int&gt; | result &lt;int&gt; | completion_code &lt;fct&gt; | os &lt;fct&gt; | browser &lt;fct&gt; | version &lt;fct&gt; | is_mobile &lt;int&gt; | ⋯ ⋯ | f14 &lt;int&gt; | f15 &lt;int&gt; | f16 &lt;int&gt; | sum &lt;int&gt; | avg &lt;dbl&gt; | attention_test1 &lt;fct&gt; | attention_test2 &lt;fct&gt; | phishing &lt;fct&gt; | techniques &lt;fct&gt; | future &lt;fct&gt; |\n",
       "|---|---|---|---|---|---|---|---|---|---|---|---|---|---|---|---|---|---|---|---|---|---|\n",
       "| 1 | ef03e9ec-33a3-4733-b714-fee31a93756b | newsroom.fb.com                                     | 0 | 3664 | 1 | dd2b51e6-baa4-40f2-9a65-90fb0d8d2ea5 | Windows 10.0 | Chrome | 78.0.3904.97 | 0 | ⋯ | 0 | 2 | 0 | 16 | 1 | never | often | no | no | yes |\n",
       "| 2 | ef03e9ec-33a3-4733-b714-fee31a93756b | docusign.com                                        | 0 | 3568 | 0 | dd2b51e6-baa4-40f2-9a65-90fb0d8d2ea5 | Windows 10.0 | Chrome | 78.0.3904.97 | 0 | ⋯ | 0 | 2 | 0 | 16 | 1 | never | often | no | no | yes |\n",
       "| 3 | ef03e9ec-33a3-4733-b714-fee31a93756b | webdropbox.net                                      | 1 | 1984 | 1 | dd2b51e6-baa4-40f2-9a65-90fb0d8d2ea5 | Windows 10.0 | Chrome | 78.0.3904.97 | 0 | ⋯ | 0 | 2 | 0 | 16 | 1 | never | often | no | no | yes |\n",
       "| 4 | ef03e9ec-33a3-4733-b714-fee31a93756b | jpmorganchaseonlinebankingverification.typeform.com | 1 | 1623 | 1 | dd2b51e6-baa4-40f2-9a65-90fb0d8d2ea5 | Windows 10.0 | Chrome | 78.0.3904.97 | 0 | ⋯ | 0 | 2 | 0 | 16 | 1 | never | often | no | no | yes |\n",
       "| 5 | ef03e9ec-33a3-4733-b714-fee31a93756b | dropbox.reddirtbbq.com                              | 1 | 1745 | 1 | dd2b51e6-baa4-40f2-9a65-90fb0d8d2ea5 | Windows 10.0 | Chrome | 78.0.3904.97 | 0 | ⋯ | 0 | 2 | 0 | 16 | 1 | never | often | no | no | yes |\n",
       "| 6 | ef03e9ec-33a3-4733-b714-fee31a93756b | apple.com                                           | 0 | 2336 | 0 | dd2b51e6-baa4-40f2-9a65-90fb0d8d2ea5 | Windows 10.0 | Chrome | 78.0.3904.97 | 0 | ⋯ | 0 | 2 | 0 | 16 | 1 | never | often | no | no | yes |\n",
       "\n"
      ],
      "text/plain": [
       "  user_id                             \n",
       "1 ef03e9ec-33a3-4733-b714-fee31a93756b\n",
       "2 ef03e9ec-33a3-4733-b714-fee31a93756b\n",
       "3 ef03e9ec-33a3-4733-b714-fee31a93756b\n",
       "4 ef03e9ec-33a3-4733-b714-fee31a93756b\n",
       "5 ef03e9ec-33a3-4733-b714-fee31a93756b\n",
       "6 ef03e9ec-33a3-4733-b714-fee31a93756b\n",
       "  test_domain                                         classification\n",
       "1 newsroom.fb.com                                     0             \n",
       "2 docusign.com                                        0             \n",
       "3 webdropbox.net                                      1             \n",
       "4 jpmorganchaseonlinebankingverification.typeform.com 1             \n",
       "5 dropbox.reddirtbbq.com                              1             \n",
       "6 apple.com                                           0             \n",
       "  elapsed_time result completion_code                      os           browser\n",
       "1 3664         1      dd2b51e6-baa4-40f2-9a65-90fb0d8d2ea5 Windows 10.0 Chrome \n",
       "2 3568         0      dd2b51e6-baa4-40f2-9a65-90fb0d8d2ea5 Windows 10.0 Chrome \n",
       "3 1984         1      dd2b51e6-baa4-40f2-9a65-90fb0d8d2ea5 Windows 10.0 Chrome \n",
       "4 1623         1      dd2b51e6-baa4-40f2-9a65-90fb0d8d2ea5 Windows 10.0 Chrome \n",
       "5 1745         1      dd2b51e6-baa4-40f2-9a65-90fb0d8d2ea5 Windows 10.0 Chrome \n",
       "6 2336         0      dd2b51e6-baa4-40f2-9a65-90fb0d8d2ea5 Windows 10.0 Chrome \n",
       "  version      is_mobile ⋯ f14 f15 f16 sum avg attention_test1 attention_test2\n",
       "1 78.0.3904.97 0         ⋯ 0   2   0   16  1   never           often          \n",
       "2 78.0.3904.97 0         ⋯ 0   2   0   16  1   never           often          \n",
       "3 78.0.3904.97 0         ⋯ 0   2   0   16  1   never           often          \n",
       "4 78.0.3904.97 0         ⋯ 0   2   0   16  1   never           often          \n",
       "5 78.0.3904.97 0         ⋯ 0   2   0   16  1   never           often          \n",
       "6 78.0.3904.97 0         ⋯ 0   2   0   16  1   never           often          \n",
       "  phishing techniques future\n",
       "1 no       no         yes   \n",
       "2 no       no         yes   \n",
       "3 no       no         yes   \n",
       "4 no       no         yes   \n",
       "5 no       no         yes   \n",
       "6 no       no         yes   "
      ]
     },
     "metadata": {},
     "output_type": "display_data"
    },
    {
     "data": {
      "text/html": [
       "16274"
      ],
      "text/latex": [
       "16274"
      ],
      "text/markdown": [
       "16274"
      ],
      "text/plain": [
       "[1] 16274"
      ]
     },
     "metadata": {},
     "output_type": "display_data"
    }
   ],
   "source": [
    "library(\"dplyr\")\n",
    "joined <- left_join(step4, participants,  by = \"user_id\")\n",
    "\n",
    "head(joined)\n",
    "nrow(joined)"
   ]
  },
  {
   "cell_type": "code",
   "execution_count": 11,
   "metadata": {},
   "outputs": [
    {
     "data": {
      "text/plain": [
       "\n",
       "\tPearson's product-moment correlation\n",
       "\n",
       "data:  joined$elapsed_time and joined$avg\n",
       "t = -5.174, df = 14176, p-value = 2.323e-07\n",
       "alternative hypothesis: true correlation is not equal to 0\n",
       "95 percent confidence interval:\n",
       " -0.05983269 -0.02697340\n",
       "sample estimates:\n",
       "        cor \n",
       "-0.04341478 \n"
      ]
     },
     "metadata": {},
     "output_type": "display_data"
    }
   ],
   "source": [
    "cor.test(joined$elapsed_time,joined$avg)"
   ]
  },
  {
   "cell_type": "code",
   "execution_count": 22,
   "metadata": {},
   "outputs": [],
   "source": [
    "library(corrplot)\n",
    "\n",
    "library(\"Hmisc\")\n",
    "\n",
    "joined1 <- left_join(step1, participants,  by = \"user_id\")\n",
    "\n",
    "\n",
    "joined1$phishing <- recode(joined1$phishing, yes = 1, no = 0, not_known = 2)\n",
    "joined1$techniques <- recode(joined1$techniques, yes = 1, no = 0, not_all = 2)\n",
    "\n",
    "\n",
    "joined1 <- joined1[which(joined1$phishing!=2, joined1$techniques!=2), ]\n",
    "#corrdata <- select(joined, elapsed_time, result, is_mobile, avg, phishing)\n",
    "\n",
    "#rcorr(as.matrix(corrdata), type = c(\"pearson\"))\n"
   ]
  },
  {
   "cell_type": "code",
   "execution_count": 33,
   "metadata": {},
   "outputs": [
    {
     "data": {
      "text/plain": [
       "\n",
       "\tWelch Two Sample t-test\n",
       "\n",
       "data:  joined1$result by joined1$phishing\n",
       "t = -8.6405, df = 2833.9, p-value < 2.2e-16\n",
       "alternative hypothesis: true difference in means is not equal to 0\n",
       "95 percent confidence interval:\n",
       " -0.1157234 -0.0729155\n",
       "sample estimates:\n",
       "mean in group 0 mean in group 1 \n",
       "      0.6496270       0.7439464 \n"
      ]
     },
     "metadata": {},
     "output_type": "display_data"
    }
   ],
   "source": [
    "# T-Test phishing vs sebis\n",
    "\n",
    "t.test(joined1$result~joined1$phishing)\n"
   ]
  },
  {
   "cell_type": "code",
   "execution_count": 34,
   "metadata": {},
   "outputs": [
    {
     "data": {
      "text/plain": [
       "\n",
       "\tWelch Two Sample t-test\n",
       "\n",
       "data:  joined4$result by joined4$phishing\n",
       "t = -10.113, df = 3272, p-value < 2.2e-16\n",
       "alternative hypothesis: true difference in means is not equal to 0\n",
       "95 percent confidence interval:\n",
       " -0.11210112 -0.07569141\n",
       "sample estimates:\n",
       "mean in group 0 mean in group 1 \n",
       "      0.7199286       0.8138249 \n"
      ]
     },
     "metadata": {},
     "output_type": "display_data"
    }
   ],
   "source": [
    "joined4 <- left_join(step4, participants,  by = \"user_id\")\n",
    "\n",
    "joined4$phishing <- recode(joined4$phishing, yes = 1, no = 0, not_known = 2)\n",
    "joined4$techniques <- recode(joined4$techniques, yes = 1, no = 0, not_all = 2)\n",
    "\n",
    "joined4 <- joined4[which(joined4$phishing!=2, joined4$techniques!=2), ]\n",
    "t.test(joined4$result~joined4$phishing)"
   ]
  },
  {
   "cell_type": "code",
   "execution_count": 49,
   "metadata": {},
   "outputs": [
    {
     "data": {
      "text/plain": [
       "\n",
       "\tWelch Two Sample t-test\n",
       "\n",
       "data:  step1$result and step4$result\n",
       "t = -12.695, df = 29285, p-value < 2.2e-16\n",
       "alternative hypothesis: true difference in means is not equal to 0\n",
       "95 percent confidence interval:\n",
       " -0.07750681 -0.05677379\n",
       "sample estimates:\n",
       "mean of x mean of y \n",
       "0.6609536 0.7280939 \n"
      ]
     },
     "metadata": {},
     "output_type": "display_data"
    },
    {
     "data": {
      "text/plain": [
       "\n",
       "\tPairwise comparisons using t tests with pooled SD \n",
       "\n",
       "data:  steps1and4$result.x and steps1and4$result.y \n",
       "\n",
       "  0     \n",
       "1 <2e-16\n",
       "\n",
       "P value adjustment method: holm "
      ]
     },
     "metadata": {},
     "output_type": "display_data"
    }
   ],
   "source": [
    "steps1and4 <- left_join(step1, step4,  by = \"test_domain\")\n",
    "#cor.test(step1$result,step4$result)\n",
    "t.test(step1$result,step4$result)\n",
    "library(stats)\n",
    "pairwise.t.test(steps1and4$result.x,steps1and4$result.y)"
   ]
  }
 ],
 "metadata": {
  "kernelspec": {
   "display_name": "R",
   "language": "R",
   "name": "ir"
  },
  "language_info": {
   "codemirror_mode": "r",
   "file_extension": ".r",
   "mimetype": "text/x-r-source",
   "name": "R",
   "pygments_lexer": "r",
   "version": "3.6.3"
  }
 },
 "nbformat": 4,
 "nbformat_minor": 4
}
